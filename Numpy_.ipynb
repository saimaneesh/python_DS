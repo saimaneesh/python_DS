{
  "nbformat": 4,
  "nbformat_minor": 5,
  "metadata": {
    "colab": {
      "name": "Numpy .ipynb",
      "provenance": [],
      "collapsed_sections": [
        "fro_DHmGSWN9",
        "s-6JfmBfSWOQ"
      ],
      "include_colab_link": true
    },
    "kernelspec": {
      "display_name": "Python 3",
      "language": "python",
      "name": "python3"
    },
    "language_info": {
      "codemirror_mode": {
        "name": "ipython",
        "version": 3
      },
      "file_extension": ".py",
      "mimetype": "text/x-python",
      "name": "python",
      "nbconvert_exporter": "python",
      "pygments_lexer": "ipython3",
      "version": "3.7.4"
    }
  },
  "cells": [
    {
      "cell_type": "markdown",
      "metadata": {
        "id": "view-in-github",
        "colab_type": "text"
      },
      "source": [
        "<a href=\"https://colab.research.google.com/github/saimaneesh/python_DS/blob/master/Numpy_.ipynb\" target=\"_parent\"><img src=\"https://colab.research.google.com/assets/colab-badge.svg\" alt=\"Open In Colab\"/></a>"
      ]
    },
    {
      "cell_type": "markdown",
      "metadata": {
        "id": "fro_DHmGSWN9"
      },
      "source": [
        "# <center><u>Numpy</u></center>"
      ],
      "id": "fro_DHmGSWN9"
    },
    {
      "cell_type": "markdown",
      "metadata": {
        "id": "ieFqGOBDSWOB"
      },
      "source": [
        "# Numpy Basics\n",
        "Welcome to section of Numpy. This is the one of the most used Python libraries for data science. NumPy consists of a powerful data structure called multidimensional arrays.\n",
        "\n",
        "NumPy is a library written for scientific computing and data analysis. It stands for numerical python and also known as array oriented computing.\n",
        "\n",
        "The most basic object in NumPy is the ndarray, or simply an array which is an n-dimensional, homogeneous array. By homogenous, we mean that all the elements in a NumPy array have to be of the same data type, which is commonly numeric (float or integer).\n",
        "\n",
        "\n",
        " # Why Numpy?\n",
        " convenience & speed\n",
        " \n",
        "Numpy is much faster than the standard python ways to do computations.\n",
        " \n",
        "Vectorised code typically does not contain explicit looping and indexing etc. (all of this happens behind the scenes, in precompiled C-code), and thus it is much more concise.\n",
        "\n",
        "Also, many Numpy operations are implemented in C which is basically being executed behind the scenes, avoiding the general cost of loops in Python, pointer indirection and per-element dynamic type checking. The speed boost depends on which operations you're performing.\n",
        " \n",
        " NumPy arrays are more compact than lists, i.e. they take much lesser storage space than lists"
      ],
      "id": "ieFqGOBDSWOB"
    },
    {
      "cell_type": "markdown",
      "metadata": {
        "id": "ERM80WVFSWOC"
      },
      "source": [
        "## 1. Variable Declarartion\n",
        "\n",
        "Reference:-https://www.youtube.com/watch?v=Y_nVWb9bcHY"
      ],
      "id": "ERM80WVFSWOC"
    },
    {
      "cell_type": "markdown",
      "metadata": {
        "id": "C-i_hyUhSWOC"
      },
      "source": [
        "<p style='text-align: right;'> 5 points</p>"
      ],
      "id": "C-i_hyUhSWOC"
    },
    {
      "cell_type": "code",
      "metadata": {
        "id": "Lo9T3Bo6SWOC"
      },
      "source": [
        "# Import numpy using alias np\n",
        "import numpy as np\n"
      ],
      "id": "Lo9T3Bo6SWOC",
      "execution_count": 2,
      "outputs": []
    },
    {
      "cell_type": "code",
      "metadata": {
        "id": "OXb5OTGSSWOD"
      },
      "source": [
        "a=np.array([1,2,3])# create a numpy array 'a' with elements 1,2,3\n",
        "b=np.array([[1,2,3],[4,5,6]])\n",
        "# create a two dimensional array 'b' with elements(1,2,3) and (4,5,6)\n",
        "\n"
      ],
      "id": "OXb5OTGSSWOD",
      "execution_count": null,
      "outputs": []
    },
    {
      "cell_type": "code",
      "metadata": {
        "id": "F1IfYGEDSWOD",
        "colab": {
          "base_uri": "https://localhost:8080/"
        },
        "outputId": "6346bde2-63a3-4945-891b-3c237a043590"
      },
      "source": [
        "# print the values of a and b\n",
        "print(a)\n",
        "print(b)"
      ],
      "id": "F1IfYGEDSWOD",
      "execution_count": null,
      "outputs": [
        {
          "output_type": "stream",
          "text": [
            "[1 2 3]\n",
            "[[1 2 3]\n",
            " [4 5 6]]\n"
          ],
          "name": "stdout"
        }
      ]
    },
    {
      "cell_type": "markdown",
      "metadata": {
        "id": "9Tf97-Q2SWOE"
      },
      "source": [
        "Print shape of both a and b"
      ],
      "id": "9Tf97-Q2SWOE"
    },
    {
      "cell_type": "code",
      "metadata": {
        "id": "DOFaNvKiSWOE",
        "colab": {
          "base_uri": "https://localhost:8080/"
        },
        "outputId": "58689dcc-3f16-4058-87d3-4dae3b0a76cf"
      },
      "source": [
        "# your code here\n",
        "print(a.shape)\n",
        "print(b.shape)\n"
      ],
      "id": "DOFaNvKiSWOE",
      "execution_count": null,
      "outputs": [
        {
          "output_type": "stream",
          "text": [
            "(3,)\n",
            "(2, 3)\n"
          ],
          "name": "stdout"
        }
      ]
    },
    {
      "cell_type": "markdown",
      "metadata": {
        "id": "epLeVaMvSWOE"
      },
      "source": [
        "Print the data types of a and b"
      ],
      "id": "epLeVaMvSWOE"
    },
    {
      "cell_type": "code",
      "metadata": {
        "id": "x7kOdjxnSWOE",
        "colab": {
          "base_uri": "https://localhost:8080/"
        },
        "outputId": "5ee0d182-3a3e-418b-c250-b43fbb728f92"
      },
      "source": [
        "print(type(a))\n",
        "print(type(b))"
      ],
      "id": "x7kOdjxnSWOE",
      "execution_count": null,
      "outputs": [
        {
          "output_type": "stream",
          "text": [
            "<class 'numpy.ndarray'>\n",
            "<class 'numpy.ndarray'>\n"
          ],
          "name": "stdout"
        }
      ]
    },
    {
      "cell_type": "markdown",
      "metadata": {
        "id": "hB3guK7nSWOF"
      },
      "source": [
        "## 2. Add, remove elements and Memory Sharing\n",
        "\n",
        "Reference:- https://www.youtube.com/watch?v=dEnCfapUbEw<br>\n",
        "            https://www.youtube.com/watch?v=17vysCjwjxc"
      ],
      "id": "hB3guK7nSWOF"
    },
    {
      "cell_type": "markdown",
      "metadata": {
        "id": "KEMsKc5QSWOF"
      },
      "source": [
        "<p style='text-align: right;'> 10 points</p>\n"
      ],
      "id": "KEMsKc5QSWOF"
    },
    {
      "cell_type": "markdown",
      "metadata": {
        "id": "iq-qMAE3SWOF"
      },
      "source": [
        "Declare x = np.array([ 5,10, 20, 12, 3])"
      ],
      "id": "iq-qMAE3SWOF"
    },
    {
      "cell_type": "code",
      "metadata": {
        "id": "BSopvdheSWOF",
        "colab": {
          "base_uri": "https://localhost:8080/"
        },
        "outputId": "8333ffa3-4990-4eeb-cc46-e96b73616b4b"
      },
      "source": [
        "# declare x \n",
        "x = np.array([5,10,20,12,3])#your code here\n",
        "print(x)\n"
      ],
      "id": "BSopvdheSWOF",
      "execution_count": null,
      "outputs": [
        {
          "output_type": "stream",
          "text": [
            "[ 5 10 20 12  3]\n"
          ],
          "name": "stdout"
        }
      ]
    },
    {
      "cell_type": "markdown",
      "metadata": {
        "id": "aY7KR7KsSWOF"
      },
      "source": [
        "Add a new element 1 at the end of x"
      ],
      "id": "aY7KR7KsSWOF"
    },
    {
      "cell_type": "code",
      "metadata": {
        "id": "2tfWNnNjSWOF",
        "colab": {
          "base_uri": "https://localhost:8080/"
        },
        "outputId": "f53e068c-ce15-422a-990e-6303f9904e5e"
      },
      "source": [
        "# your code here\n",
        "x=np.append(x,[1])\n",
        "print(x) # check if 1 is added "
      ],
      "id": "2tfWNnNjSWOF",
      "execution_count": null,
      "outputs": [
        {
          "output_type": "stream",
          "text": [
            "[ 5 10 20 12  3  1]\n"
          ],
          "name": "stdout"
        }
      ]
    },
    {
      "cell_type": "markdown",
      "metadata": {
        "id": "3DND_QDzSWOG"
      },
      "source": [
        "Delete the second element of x \n"
      ],
      "id": "3DND_QDzSWOG"
    },
    {
      "cell_type": "code",
      "metadata": {
        "id": "ohz4xOs-SWOG",
        "colab": {
          "base_uri": "https://localhost:8080/"
        },
        "outputId": "5cb364a0-1341-4d7d-d8ab-33bf1224c389"
      },
      "source": [
        "# your code here \n",
        "x=np.delete(x,1,axis=0)\n",
        "print(x) # check if the second element has been deleted"
      ],
      "id": "ohz4xOs-SWOG",
      "execution_count": null,
      "outputs": [
        {
          "output_type": "stream",
          "text": [
            "[ 5 20 12  3  1]\n"
          ],
          "name": "stdout"
        }
      ]
    },
    {
      "cell_type": "markdown",
      "metadata": {
        "id": "xrJy6hwkSWOG"
      },
      "source": [
        "Set y = x\n"
      ],
      "id": "xrJy6hwkSWOG"
    },
    {
      "cell_type": "code",
      "metadata": {
        "id": "ellUvpjQSWOG"
      },
      "source": [
        "y=x"
      ],
      "id": "ellUvpjQSWOG",
      "execution_count": null,
      "outputs": []
    },
    {
      "cell_type": "markdown",
      "metadata": {
        "id": "utVR1BPFSWOG"
      },
      "source": [
        "Set the first element y =  1\n"
      ],
      "id": "utVR1BPFSWOG"
    },
    {
      "cell_type": "code",
      "metadata": {
        "id": "W3Etxg-4SWOG",
        "colab": {
          "base_uri": "https://localhost:8080/"
        },
        "outputId": "84668dc3-3401-4369-a73b-d67e97a9f998"
      },
      "source": [
        "# set first element of y to be 1\n",
        "y[0]=1\n",
        "print(y)"
      ],
      "id": "W3Etxg-4SWOG",
      "execution_count": null,
      "outputs": [
        {
          "output_type": "stream",
          "text": [
            "[ 1 20 12  3  1]\n"
          ],
          "name": "stdout"
        }
      ]
    },
    {
      "cell_type": "markdown",
      "metadata": {
        "id": "9OW37aLaSWOG"
      },
      "source": [
        "Print x and y\n",
        "\n"
      ],
      "id": "9OW37aLaSWOG"
    },
    {
      "cell_type": "code",
      "metadata": {
        "id": "1oL46MJMSWOH",
        "colab": {
          "base_uri": "https://localhost:8080/"
        },
        "outputId": "be5f6e40-5b8e-449c-d180-5a3d992c2666"
      },
      "source": [
        "\n",
        "print(x)\n",
        "print(y)"
      ],
      "id": "1oL46MJMSWOH",
      "execution_count": null,
      "outputs": [
        {
          "output_type": "stream",
          "text": [
            "[ 1 20 12  3  1]\n",
            "[ 1 20 12  3  1]\n"
          ],
          "name": "stdout"
        }
      ]
    },
    {
      "cell_type": "markdown",
      "metadata": {
        "id": "CIPTxgWFSWOH"
      },
      "source": [
        "<b>you modified y, OMG!! but why x is also affected? Just give a try to answer this quest below </b>"
      ],
      "id": "CIPTxgWFSWOH"
    },
    {
      "cell_type": "markdown",
      "metadata": {
        "id": "fVIvlt39pQhn"
      },
      "source": [
        "#This binds a new name y to the existing object already named x. Afterwards they refer to the same object, so if you modify one in place, you'll see the change through the other one too."
      ],
      "id": "fVIvlt39pQhn"
    },
    {
      "cell_type": "markdown",
      "metadata": {
        "id": "_oTBIhKxSWOH"
      },
      "source": [
        "Set z = np.copy(x)\n"
      ],
      "id": "_oTBIhKxSWOH"
    },
    {
      "cell_type": "code",
      "metadata": {
        "id": "KFtUd43qSWOH"
      },
      "source": [
        "z = np.copy(x)#your code here\n"
      ],
      "id": "KFtUd43qSWOH",
      "execution_count": null,
      "outputs": []
    },
    {
      "cell_type": "markdown",
      "metadata": {
        "id": "ZHHOF_PpSWOH"
      },
      "source": [
        "Set the first element of z as 100\n"
      ],
      "id": "ZHHOF_PpSWOH"
    },
    {
      "cell_type": "code",
      "metadata": {
        "id": "lg2V8SQFSWOH"
      },
      "source": [
        "z[0]=100"
      ],
      "id": "lg2V8SQFSWOH",
      "execution_count": null,
      "outputs": []
    },
    {
      "cell_type": "markdown",
      "metadata": {
        "id": "uWp9yWfiSWOH"
      },
      "source": [
        "print x and z to see if there is any change in x."
      ],
      "id": "uWp9yWfiSWOH"
    },
    {
      "cell_type": "code",
      "metadata": {
        "id": "HIzO2gYOSWOH",
        "colab": {
          "base_uri": "https://localhost:8080/"
        },
        "outputId": "6e302c38-c3f8-4f31-922f-0d77b3cbc040"
      },
      "source": [
        "print(x)\n",
        "print(z)"
      ],
      "id": "HIzO2gYOSWOH",
      "execution_count": null,
      "outputs": [
        {
          "output_type": "stream",
          "text": [
            "[ 1 20 12  3  1]\n",
            "[100  20  12   3   1]\n"
          ],
          "name": "stdout"
        }
      ]
    },
    {
      "cell_type": "markdown",
      "metadata": {
        "id": "AAkmdDdqSWOH"
      },
      "source": [
        "<b>Hey the above output seems so interesting!!. When used copy function the changes did not affect on x. Can you Guess why ?<b>"
      ],
      "id": "AAkmdDdqSWOH"
    },
    {
      "cell_type": "markdown",
      "metadata": {
        "id": "7cxY0beIsdAr"
      },
      "source": [
        "# It returns the deep copy of the original array which doesn't share any memory with the original array. The modification made to the deep copy of the original array doesn't reflect the original array."
      ],
      "id": "7cxY0beIsdAr"
    },
    {
      "cell_type": "markdown",
      "metadata": {
        "id": "yPgBLrnFSWOI"
      },
      "source": [
        "## 4. Using various Numpy Functions.\n",
        "\n",
        "Reference:- https://www.youtube.com/watch?v=HL-nfSG6F2I\n"
      ],
      "id": "yPgBLrnFSWOI"
    },
    {
      "cell_type": "markdown",
      "metadata": {
        "id": "fOJ0LS7MSWOI"
      },
      "source": [
        "<p style='text-align: right;'> 8*2 = 16 points</p>\n"
      ],
      "id": "fOJ0LS7MSWOI"
    },
    {
      "cell_type": "markdown",
      "metadata": {
        "id": "E4fdgsjtSWOI"
      },
      "source": [
        "Create a numpy array containing numbers from 1 to 12"
      ],
      "id": "E4fdgsjtSWOI"
    },
    {
      "cell_type": "code",
      "metadata": {
        "id": "F3DXMPB5SWOI",
        "colab": {
          "base_uri": "https://localhost:8080/"
        },
        "outputId": "55e0202f-aad0-4e01-f894-fbe3e1489e3a"
      },
      "source": [
        "# x = #your code here \n",
        "x=np.arange(1,13)\n",
        "print(x)"
      ],
      "id": "F3DXMPB5SWOI",
      "execution_count": null,
      "outputs": [
        {
          "output_type": "stream",
          "text": [
            "[ 1  2  3  4  5  6  7  8  9 10 11 12]\n"
          ],
          "name": "stdout"
        }
      ]
    },
    {
      "cell_type": "markdown",
      "metadata": {
        "id": "OkH7ueRXSWOI"
      },
      "source": [
        "Create a numpy array containing even numbers between 1 to 20\n",
        "\n",
        "\n"
      ],
      "id": "OkH7ueRXSWOI"
    },
    {
      "cell_type": "code",
      "metadata": {
        "id": "uJ7QgXWDSWOI",
        "colab": {
          "base_uri": "https://localhost:8080/"
        },
        "outputId": "ea490ad3-6487-4940-8ab9-bc846829ee61"
      },
      "source": [
        "np.arange(2,21,2)"
      ],
      "id": "uJ7QgXWDSWOI",
      "execution_count": null,
      "outputs": [
        {
          "output_type": "execute_result",
          "data": {
            "text/plain": [
              "array([ 2,  4,  6,  8, 10, 12, 14, 16, 18, 20])"
            ]
          },
          "metadata": {
            "tags": []
          },
          "execution_count": 6
        }
      ]
    },
    {
      "cell_type": "markdown",
      "metadata": {
        "id": "yAqZCZXTSWOI"
      },
      "source": [
        "Create an array of 2 rows and 2 columns containing all zeros.\n",
        "\n",
        "\n"
      ],
      "id": "yAqZCZXTSWOI"
    },
    {
      "cell_type": "code",
      "metadata": {
        "id": "I9cFX4vISWOI",
        "colab": {
          "base_uri": "https://localhost:8080/"
        },
        "outputId": "00d43bcf-2eec-4cdc-adbc-e80930e99b42"
      },
      "source": [
        "np.zeros([2,2])"
      ],
      "id": "I9cFX4vISWOI",
      "execution_count": null,
      "outputs": [
        {
          "output_type": "execute_result",
          "data": {
            "text/plain": [
              "array([[0., 0.],\n",
              "       [0., 0.]])"
            ]
          },
          "metadata": {
            "tags": []
          },
          "execution_count": 10
        }
      ]
    },
    {
      "cell_type": "markdown",
      "metadata": {
        "id": "8sHg-qqSSWOI"
      },
      "source": [
        "Create a matrix containing 3 rows and 2 columns where all the values are 1.\n",
        "\n",
        "\n"
      ],
      "id": "8sHg-qqSSWOI"
    },
    {
      "cell_type": "code",
      "metadata": {
        "id": "4nnolJ8ISWOI",
        "colab": {
          "base_uri": "https://localhost:8080/"
        },
        "outputId": "f03d4a0d-2047-47c7-e452-168636508eb5"
      },
      "source": [
        "np.ones([3,2])"
      ],
      "id": "4nnolJ8ISWOI",
      "execution_count": null,
      "outputs": [
        {
          "output_type": "execute_result",
          "data": {
            "text/plain": [
              "array([[1., 1.],\n",
              "       [1., 1.],\n",
              "       [1., 1.]])"
            ]
          },
          "metadata": {
            "tags": []
          },
          "execution_count": 11
        }
      ]
    },
    {
      "cell_type": "markdown",
      "metadata": {
        "id": "dF9f7EUNSWOJ"
      },
      "source": [
        "Create a matrix of size 5x5 where all are diagonal elements are 1, rest being 0."
      ],
      "id": "dF9f7EUNSWOJ"
    },
    {
      "cell_type": "code",
      "metadata": {
        "id": "FMvyqIM8SWOJ",
        "colab": {
          "base_uri": "https://localhost:8080/"
        },
        "outputId": "f721b521-76d1-4798-8a21-208f6b5434cd"
      },
      "source": [
        "np.eye(5)"
      ],
      "id": "FMvyqIM8SWOJ",
      "execution_count": null,
      "outputs": [
        {
          "output_type": "execute_result",
          "data": {
            "text/plain": [
              "array([[1., 0., 0., 0., 0.],\n",
              "       [0., 1., 0., 0., 0.],\n",
              "       [0., 0., 1., 0., 0.],\n",
              "       [0., 0., 0., 1., 0.],\n",
              "       [0., 0., 0., 0., 1.]])"
            ]
          },
          "metadata": {
            "tags": []
          },
          "execution_count": 12
        }
      ]
    },
    {
      "cell_type": "markdown",
      "metadata": {
        "id": "jT5IIBQOSWOJ"
      },
      "source": [
        "Create a matrix of size 4x2 where all the elements are 4\n",
        "\n",
        "\n"
      ],
      "id": "jT5IIBQOSWOJ"
    },
    {
      "cell_type": "code",
      "metadata": {
        "id": "_eHI61uSSWOJ",
        "colab": {
          "base_uri": "https://localhost:8080/"
        },
        "outputId": "1576ab01-f3af-4c7d-a341-9e50900103e6"
      },
      "source": [
        "np.full((4,2),4)"
      ],
      "id": "_eHI61uSSWOJ",
      "execution_count": null,
      "outputs": [
        {
          "output_type": "execute_result",
          "data": {
            "text/plain": [
              "array([[4, 4],\n",
              "       [4, 4],\n",
              "       [4, 4],\n",
              "       [4, 4]])"
            ]
          },
          "metadata": {
            "tags": []
          },
          "execution_count": 13
        }
      ]
    },
    {
      "cell_type": "markdown",
      "metadata": {
        "id": "l6ePELShSWOJ"
      },
      "source": [
        "Create a matrix where diagonal elements are [1 , 2, 3, 4, 5] and rest are zero\n",
        "\n",
        "\n"
      ],
      "id": "l6ePELShSWOJ"
    },
    {
      "cell_type": "code",
      "metadata": {
        "id": "hQlsHGLRSWOJ",
        "colab": {
          "base_uri": "https://localhost:8080/"
        },
        "outputId": "9fba6fc2-da72-4e4d-a036-010614502444"
      },
      "source": [
        "np.diag([1,2,3,4,5])"
      ],
      "id": "hQlsHGLRSWOJ",
      "execution_count": null,
      "outputs": [
        {
          "output_type": "execute_result",
          "data": {
            "text/plain": [
              "array([[1, 0, 0, 0, 0],\n",
              "       [0, 2, 0, 0, 0],\n",
              "       [0, 0, 3, 0, 0],\n",
              "       [0, 0, 0, 4, 0],\n",
              "       [0, 0, 0, 0, 5]])"
            ]
          },
          "metadata": {
            "tags": []
          },
          "execution_count": 16
        }
      ]
    },
    {
      "cell_type": "markdown",
      "metadata": {
        "id": "Z_eNn67uSWOJ"
      },
      "source": [
        "Create a matrix of size 3x3 which contains random numbers from 0 to 1.\n",
        "\n",
        "\n"
      ],
      "id": "Z_eNn67uSWOJ"
    },
    {
      "cell_type": "code",
      "metadata": {
        "id": "YED-cMWrSWOJ",
        "colab": {
          "base_uri": "https://localhost:8080/"
        },
        "outputId": "bc203827-a21c-46d7-b32e-6aded029bfe0"
      },
      "source": [
        "np.random.random((3,3))"
      ],
      "id": "YED-cMWrSWOJ",
      "execution_count": null,
      "outputs": [
        {
          "output_type": "execute_result",
          "data": {
            "text/plain": [
              "array([[0.04393521, 0.99502713, 0.26554598],\n",
              "       [0.01972666, 0.6151532 , 0.92279938],\n",
              "       [0.29737776, 0.24039457, 0.44049633]])"
            ]
          },
          "metadata": {
            "tags": []
          },
          "execution_count": 19
        }
      ]
    },
    {
      "cell_type": "markdown",
      "metadata": {
        "id": "be-OlUyaSWOJ"
      },
      "source": [
        "Create a numpy array of shape (50,) such that it contains evenly spaced numbers, from 1 to 20."
      ],
      "id": "be-OlUyaSWOJ"
    },
    {
      "cell_type": "code",
      "metadata": {
        "id": "k80nLFv9SWOJ",
        "colab": {
          "base_uri": "https://localhost:8080/"
        },
        "outputId": "478c2400-205e-4cd8-f358-5b210890de7d"
      },
      "source": [
        "np.linspace(1,20,50)"
      ],
      "id": "k80nLFv9SWOJ",
      "execution_count": null,
      "outputs": [
        {
          "output_type": "execute_result",
          "data": {
            "text/plain": [
              "array([ 1.        ,  1.3877551 ,  1.7755102 ,  2.16326531,  2.55102041,\n",
              "        2.93877551,  3.32653061,  3.71428571,  4.10204082,  4.48979592,\n",
              "        4.87755102,  5.26530612,  5.65306122,  6.04081633,  6.42857143,\n",
              "        6.81632653,  7.20408163,  7.59183673,  7.97959184,  8.36734694,\n",
              "        8.75510204,  9.14285714,  9.53061224,  9.91836735, 10.30612245,\n",
              "       10.69387755, 11.08163265, 11.46938776, 11.85714286, 12.24489796,\n",
              "       12.63265306, 13.02040816, 13.40816327, 13.79591837, 14.18367347,\n",
              "       14.57142857, 14.95918367, 15.34693878, 15.73469388, 16.12244898,\n",
              "       16.51020408, 16.89795918, 17.28571429, 17.67346939, 18.06122449,\n",
              "       18.44897959, 18.83673469, 19.2244898 , 19.6122449 , 20.        ])"
            ]
          },
          "metadata": {
            "tags": []
          },
          "execution_count": 26
        }
      ]
    },
    {
      "cell_type": "markdown",
      "metadata": {
        "id": "WgtA_596SWOJ"
      },
      "source": [
        "## 5. Reshaping\n",
        "\n",
        "Reference:-https://www.youtube.com/watch?v=sGCuryS8zjc"
      ],
      "id": "WgtA_596SWOJ"
    },
    {
      "cell_type": "markdown",
      "metadata": {
        "id": "8JrudG-OSWOK"
      },
      "source": [
        "<p style='text-align: right;'> 4+1 = 5 points</p>\n"
      ],
      "id": "8JrudG-OSWOK"
    },
    {
      "cell_type": "markdown",
      "metadata": {
        "id": "KFJGt401SWOK"
      },
      "source": [
        "Use np.arange to create  a numpy array with values between 0 to 23"
      ],
      "id": "KFJGt401SWOK"
    },
    {
      "cell_type": "code",
      "metadata": {
        "id": "68_PQMLhSWOK",
        "colab": {
          "base_uri": "https://localhost:8080/"
        },
        "outputId": "0ebf4f45-dc73-446e-cce0-088cb54c440d"
      },
      "source": [
        "a =np.arange(24) #your code here \n",
        "\n",
        "print(a)"
      ],
      "id": "68_PQMLhSWOK",
      "execution_count": null,
      "outputs": [
        {
          "output_type": "stream",
          "text": [
            "[ 0  1  2  3  4  5  6  7  8  9 10 11 12 13 14 15 16 17 18 19 20 21 22 23]\n"
          ],
          "name": "stdout"
        }
      ]
    },
    {
      "cell_type": "code",
      "metadata": {
        "id": "rutZXqrgSWOK",
        "colab": {
          "base_uri": "https://localhost:8080/"
        },
        "outputId": "b1774177-3554-49e2-a754-7d236416b460"
      },
      "source": [
        "# print the shape of a\n",
        "print(a.shape)\n"
      ],
      "id": "rutZXqrgSWOK",
      "execution_count": null,
      "outputs": [
        {
          "output_type": "stream",
          "text": [
            "(24,)\n"
          ],
          "name": "stdout"
        }
      ]
    },
    {
      "cell_type": "markdown",
      "metadata": {
        "id": "yWof93oOSWOK"
      },
      "source": [
        "Using a suitable method, reshape a to have a dimension of (3,8). Print b and its shape\n"
      ],
      "id": "yWof93oOSWOK"
    },
    {
      "cell_type": "code",
      "metadata": {
        "id": "mf-Lhf32SWOK",
        "colab": {
          "base_uri": "https://localhost:8080/"
        },
        "outputId": "7228b2a5-8932-445f-fd07-697a327b49f0"
      },
      "source": [
        "b = np.reshape(a,(3,8))#your code here\n",
        "print(b.shape)\n",
        "print(b)"
      ],
      "id": "mf-Lhf32SWOK",
      "execution_count": null,
      "outputs": [
        {
          "output_type": "stream",
          "text": [
            "(3, 8)\n",
            "[[ 0  1  2  3  4  5  6  7]\n",
            " [ 8  9 10 11 12 13 14 15]\n",
            " [16 17 18 19 20 21 22 23]]\n"
          ],
          "name": "stdout"
        }
      ]
    },
    {
      "cell_type": "markdown",
      "metadata": {
        "id": "bpv6_fORSWOK"
      },
      "source": [
        "Create another numpy array c  = a.reshape(2,-1)"
      ],
      "id": "bpv6_fORSWOK"
    },
    {
      "cell_type": "code",
      "metadata": {
        "id": "dl2Te2lOSWOK"
      },
      "source": [
        "c = a.reshape((2,-1))# your code here\n"
      ],
      "id": "dl2Te2lOSWOK",
      "execution_count": null,
      "outputs": []
    },
    {
      "cell_type": "code",
      "metadata": {
        "id": "EBlXv2KOSWOK",
        "colab": {
          "base_uri": "https://localhost:8080/"
        },
        "outputId": "d04a6410-e625-4151-8b3d-4eeb7ac553d0"
      },
      "source": [
        "#print c\n",
        "print(c)"
      ],
      "id": "EBlXv2KOSWOK",
      "execution_count": null,
      "outputs": [
        {
          "output_type": "stream",
          "text": [
            "[[ 0  1  2  3  4  5  6  7  8  9 10 11]\n",
            " [12 13 14 15 16 17 18 19 20 21 22 23]]\n"
          ],
          "name": "stdout"
        }
      ]
    },
    {
      "cell_type": "markdown",
      "metadata": {
        "id": "VHj6vhE4SWOK"
      },
      "source": [
        "Print the shape of c."
      ],
      "id": "VHj6vhE4SWOK"
    },
    {
      "cell_type": "code",
      "metadata": {
        "id": "umf-FBnjSWOL",
        "colab": {
          "base_uri": "https://localhost:8080/"
        },
        "outputId": "f0982d4b-93cc-45bd-d0f8-3bc57bc0b601"
      },
      "source": [
        "print(c.shape)"
      ],
      "id": "umf-FBnjSWOL",
      "execution_count": null,
      "outputs": [
        {
          "output_type": "stream",
          "text": [
            "(2, 12)\n"
          ],
          "name": "stdout"
        }
      ]
    },
    {
      "cell_type": "markdown",
      "metadata": {
        "id": "_7gY7V1uSWOL"
      },
      "source": [
        "<b>Hey check above, what role -1 has played in reshape function. Don't worry</b>\n",
        "<b> ok let me tell you this fun fact</b>\n",
        "\n",
        "When using a -1, the dimension corresponding to the -1 will be the product of the dimensions of the original array divided by the product of the dimensions given to reshape so as to maintain the same number of elements"
      ],
      "id": "_7gY7V1uSWOL"
    },
    {
      "cell_type": "markdown",
      "metadata": {
        "id": "TUKBsMr1SWOL"
      },
      "source": [
        "________"
      ],
      "id": "TUKBsMr1SWOL"
    },
    {
      "cell_type": "markdown",
      "metadata": {
        "id": "IogwEn0vSWOL"
      },
      "source": [
        "## 6. Accessing numpy arrays\n",
        "\n",
        "Reference:-https://www.youtube.com/watch?v=y7kcnPy-NtQ\n"
      ],
      "id": "IogwEn0vSWOL"
    },
    {
      "cell_type": "markdown",
      "metadata": {
        "id": "K2G-LU3OSWOL"
      },
      "source": [
        "<p style='text-align: right;'> 6 points</p>\n"
      ],
      "id": "K2G-LU3OSWOL"
    },
    {
      "cell_type": "markdown",
      "metadata": {
        "id": "uOFxxqopSWOL"
      },
      "source": [
        "### Create an array, a = np.array([2,4,6,8,10,12,14,16])\n",
        "\n",
        "\n"
      ],
      "id": "uOFxxqopSWOL"
    },
    {
      "cell_type": "code",
      "metadata": {
        "id": "DxG862oISWOL"
      },
      "source": [
        "# code here\n",
        "a=np.array([2,4,6,8,10,12,14,16])"
      ],
      "id": "DxG862oISWOL",
      "execution_count": 3,
      "outputs": []
    },
    {
      "cell_type": "code",
      "metadata": {
        "id": "hzVM35FdSWOL",
        "colab": {
          "base_uri": "https://localhost:8080/"
        },
        "outputId": "beb1ea7b-0711-465a-892f-80f4a16443ca"
      },
      "source": [
        "# print a\n",
        "print(a)"
      ],
      "id": "hzVM35FdSWOL",
      "execution_count": 5,
      "outputs": [
        {
          "output_type": "stream",
          "text": [
            "[ 2  4  6  8 10 12 14 16]\n"
          ],
          "name": "stdout"
        }
      ]
    },
    {
      "cell_type": "markdown",
      "metadata": {
        "id": "F44FbqlnSWOL"
      },
      "source": [
        "<b>Using indexing and slicing, select the following mentioned subsets - </b>"
      ],
      "id": "F44FbqlnSWOL"
    },
    {
      "cell_type": "code",
      "metadata": {
        "id": "edBnS1mYSWOL",
        "colab": {
          "base_uri": "https://localhost:8080/"
        },
        "outputId": "52a1b20c-4539-4e1c-8476-5747bb0f7468"
      },
      "source": [
        "# [4]\n",
        "#code here\n",
        "a[1]"
      ],
      "id": "edBnS1mYSWOL",
      "execution_count": 6,
      "outputs": [
        {
          "output_type": "execute_result",
          "data": {
            "text/plain": [
              "4"
            ]
          },
          "metadata": {
            "tags": []
          },
          "execution_count": 6
        }
      ]
    },
    {
      "cell_type": "code",
      "metadata": {
        "id": "wffCWC_7SWOM",
        "colab": {
          "base_uri": "https://localhost:8080/"
        },
        "outputId": "a16ddcd2-d3fb-4451-f5c1-1d3e235cc4a3"
      },
      "source": [
        "#[4, 8, 12]\n",
        "print(a[1:7:2])"
      ],
      "id": "wffCWC_7SWOM",
      "execution_count": 9,
      "outputs": [
        {
          "output_type": "stream",
          "text": [
            "[ 4  8 12]\n"
          ],
          "name": "stdout"
        }
      ]
    },
    {
      "cell_type": "code",
      "metadata": {
        "id": "UW_ilvvMSWOM",
        "colab": {
          "base_uri": "https://localhost:8080/"
        },
        "outputId": "435619c9-d9aa-4848-ee46-0090f9973aae"
      },
      "source": [
        "# [10, 12, 14, 16]\n",
        "a[4:]\n"
      ],
      "id": "UW_ilvvMSWOM",
      "execution_count": 10,
      "outputs": [
        {
          "output_type": "execute_result",
          "data": {
            "text/plain": [
              "array([10, 12, 14, 16])"
            ]
          },
          "metadata": {
            "tags": []
          },
          "execution_count": 10
        }
      ]
    },
    {
      "cell_type": "code",
      "metadata": {
        "id": "qOIoxS2dSWON",
        "colab": {
          "base_uri": "https://localhost:8080/"
        },
        "outputId": "5b3fd87b-a799-4c29-f7b3-77908a865a23"
      },
      "source": [
        "# [14, 16]\n",
        "a[6:]"
      ],
      "id": "qOIoxS2dSWON",
      "execution_count": 11,
      "outputs": [
        {
          "output_type": "execute_result",
          "data": {
            "text/plain": [
              "array([14, 16])"
            ]
          },
          "metadata": {
            "tags": []
          },
          "execution_count": 11
        }
      ]
    },
    {
      "cell_type": "code",
      "metadata": {
        "id": "xS2D4k3kSWON",
        "colab": {
          "base_uri": "https://localhost:8080/"
        },
        "outputId": "c290a719-4201-4883-a5cb-535903470982"
      },
      "source": [
        "# [2, 6, 10, 14]\n",
        "a[::2]"
      ],
      "id": "xS2D4k3kSWON",
      "execution_count": 12,
      "outputs": [
        {
          "output_type": "execute_result",
          "data": {
            "text/plain": [
              "array([ 2,  6, 10, 14])"
            ]
          },
          "metadata": {
            "tags": []
          },
          "execution_count": 12
        }
      ]
    },
    {
      "cell_type": "markdown",
      "metadata": {
        "id": "AmVusL7eSWON"
      },
      "source": [
        "## 7. Transposing\n",
        "\n",
        "Reference:-https://www.youtube.com/watch?v=oNjX7nzFzrc"
      ],
      "id": "AmVusL7eSWON"
    },
    {
      "cell_type": "markdown",
      "metadata": {
        "id": "S8CvY0RHSWON"
      },
      "source": [
        "<p style='text-align: right;'> 4 points</p>\n"
      ],
      "id": "S8CvY0RHSWON"
    },
    {
      "cell_type": "markdown",
      "metadata": {
        "id": "tpocLxgESWON"
      },
      "source": [
        "Create an array a = np.array([ [1, 2, 3], [4, 5, 6], [7,8,9], [10,11,12] ] )\n"
      ],
      "id": "tpocLxgESWON"
    },
    {
      "cell_type": "code",
      "metadata": {
        "id": "W37XRe4kSWON"
      },
      "source": [
        "a = np.array([ [1, 2, 3], [4, 5, 6], [7,8,9], [10,11,12] ] )"
      ],
      "id": "W37XRe4kSWON",
      "execution_count": 14,
      "outputs": []
    },
    {
      "cell_type": "markdown",
      "metadata": {
        "id": "KmpGupqSSWON"
      },
      "source": [
        "What is the shape of a?"
      ],
      "id": "KmpGupqSSWON"
    },
    {
      "cell_type": "code",
      "metadata": {
        "id": "2WGdXG21SWON",
        "colab": {
          "base_uri": "https://localhost:8080/"
        },
        "outputId": "0f820a77-a4d6-4462-b23e-acf69928386a"
      },
      "source": [
        "a.shape"
      ],
      "id": "2WGdXG21SWON",
      "execution_count": 15,
      "outputs": [
        {
          "output_type": "execute_result",
          "data": {
            "text/plain": [
              "(4, 3)"
            ]
          },
          "metadata": {
            "tags": []
          },
          "execution_count": 15
        }
      ]
    },
    {
      "cell_type": "markdown",
      "metadata": {
        "id": "XN0eBL0dSWON"
      },
      "source": [
        "### Create another array b which is transpose of a"
      ],
      "id": "XN0eBL0dSWON"
    },
    {
      "cell_type": "code",
      "metadata": {
        "id": "KDK062tTSWON"
      },
      "source": [
        "b=a.T"
      ],
      "id": "KDK062tTSWON",
      "execution_count": 16,
      "outputs": []
    },
    {
      "cell_type": "markdown",
      "metadata": {
        "id": "6-undzUeSWON"
      },
      "source": [
        "Print b and its shape"
      ],
      "id": "6-undzUeSWON"
    },
    {
      "cell_type": "code",
      "metadata": {
        "id": "A0G1sELiSWOO",
        "colab": {
          "base_uri": "https://localhost:8080/"
        },
        "outputId": "cc95ab1d-2fad-4bac-958e-ef2d7b071e8e"
      },
      "source": [
        "print(b)\n",
        "b.shape"
      ],
      "id": "A0G1sELiSWOO",
      "execution_count": 17,
      "outputs": [
        {
          "output_type": "stream",
          "text": [
            "[[ 1  4  7 10]\n",
            " [ 2  5  8 11]\n",
            " [ 3  6  9 12]]\n"
          ],
          "name": "stdout"
        },
        {
          "output_type": "execute_result",
          "data": {
            "text/plain": [
              "(3, 4)"
            ]
          },
          "metadata": {
            "tags": []
          },
          "execution_count": 17
        }
      ]
    },
    {
      "cell_type": "markdown",
      "metadata": {
        "id": "KLRfAU46SWOO"
      },
      "source": [
        "## 8. Mathematical Operations\n",
        "\n",
        "Reference:-https://www.youtube.com/watch?v=17vysCjwjxc"
      ],
      "id": "KLRfAU46SWOO"
    },
    {
      "cell_type": "markdown",
      "metadata": {
        "id": "VApF9heUSWOO"
      },
      "source": [
        "<p style='text-align: right;'> 8 points</p>\n"
      ],
      "id": "VApF9heUSWOO"
    },
    {
      "cell_type": "markdown",
      "metadata": {
        "id": "GcQsUIeBSWOO"
      },
      "source": [
        "### Complete the following tasks given in comment using numpy function."
      ],
      "id": "GcQsUIeBSWOO"
    },
    {
      "cell_type": "code",
      "metadata": {
        "id": "GxwrZvWXSWOO",
        "colab": {
          "base_uri": "https://localhost:8080/"
        },
        "outputId": "e52c893c-4381-460e-8832-1a31a66adf9e"
      },
      "source": [
        "# complete your tasks here\n",
        "\n",
        "# Create an array, a = np.arange(10) and print a\n",
        "\n",
        "a=np.arange(10)\n",
        "print(a)"
      ],
      "id": "GxwrZvWXSWOO",
      "execution_count": 19,
      "outputs": [
        {
          "output_type": "stream",
          "text": [
            "[0 1 2 3 4 5 6 7 8 9]\n"
          ],
          "name": "stdout"
        }
      ]
    },
    {
      "cell_type": "code",
      "metadata": {
        "id": "aegnP381SWOO",
        "colab": {
          "base_uri": "https://localhost:8080/"
        },
        "outputId": "5b35c438-3250-4586-81e0-6dd18f5e0174"
      },
      "source": [
        "# Find sin value of a\n",
        "\n",
        "np.sin(a)"
      ],
      "id": "aegnP381SWOO",
      "execution_count": 20,
      "outputs": [
        {
          "output_type": "execute_result",
          "data": {
            "text/plain": [
              "array([ 0.        ,  0.84147098,  0.90929743,  0.14112001, -0.7568025 ,\n",
              "       -0.95892427, -0.2794155 ,  0.6569866 ,  0.98935825,  0.41211849])"
            ]
          },
          "metadata": {
            "tags": []
          },
          "execution_count": 20
        }
      ]
    },
    {
      "cell_type": "code",
      "metadata": {
        "id": "-55RPoQKSWOO",
        "colab": {
          "base_uri": "https://localhost:8080/"
        },
        "outputId": "16efc90c-aa1d-48ef-99ba-97d4d95779ec"
      },
      "source": [
        "# Find cos value a\n",
        "np.cos(a)\n"
      ],
      "id": "-55RPoQKSWOO",
      "execution_count": 21,
      "outputs": [
        {
          "output_type": "execute_result",
          "data": {
            "text/plain": [
              "array([ 1.        ,  0.54030231, -0.41614684, -0.9899925 , -0.65364362,\n",
              "        0.28366219,  0.96017029,  0.75390225, -0.14550003, -0.91113026])"
            ]
          },
          "metadata": {
            "tags": []
          },
          "execution_count": 21
        }
      ]
    },
    {
      "cell_type": "code",
      "metadata": {
        "id": "7AnAi2gSSWOO",
        "colab": {
          "base_uri": "https://localhost:8080/"
        },
        "outputId": "782a5714-aad6-4337-9e67-a1f4ed2d7bf8"
      },
      "source": [
        "# Find exponential of all the values in a.\n",
        "\n",
        "np.exp(a)"
      ],
      "id": "7AnAi2gSSWOO",
      "execution_count": 22,
      "outputs": [
        {
          "output_type": "execute_result",
          "data": {
            "text/plain": [
              "array([1.00000000e+00, 2.71828183e+00, 7.38905610e+00, 2.00855369e+01,\n",
              "       5.45981500e+01, 1.48413159e+02, 4.03428793e+02, 1.09663316e+03,\n",
              "       2.98095799e+03, 8.10308393e+03])"
            ]
          },
          "metadata": {
            "tags": []
          },
          "execution_count": 22
        }
      ]
    },
    {
      "cell_type": "code",
      "metadata": {
        "id": "tdztKHB0SWOO",
        "colab": {
          "base_uri": "https://localhost:8080/"
        },
        "outputId": "c74b747f-de6b-4e21-fa71-3f5d774df413"
      },
      "source": [
        "# Find the sum of all the values in a.\n",
        "np.sum(a)\n"
      ],
      "id": "tdztKHB0SWOO",
      "execution_count": 24,
      "outputs": [
        {
          "output_type": "execute_result",
          "data": {
            "text/plain": [
              "45"
            ]
          },
          "metadata": {
            "tags": []
          },
          "execution_count": 24
        }
      ]
    },
    {
      "cell_type": "code",
      "metadata": {
        "id": "C5huet7ISWOO",
        "colab": {
          "base_uri": "https://localhost:8080/"
        },
        "outputId": "1df15bd5-0b5a-4aa2-ec5d-3f40438799ef"
      },
      "source": [
        "# Find the median value in a.\n",
        "\n",
        "np.median(a)"
      ],
      "id": "C5huet7ISWOO",
      "execution_count": 25,
      "outputs": [
        {
          "output_type": "execute_result",
          "data": {
            "text/plain": [
              "4.5"
            ]
          },
          "metadata": {
            "tags": []
          },
          "execution_count": 25
        }
      ]
    },
    {
      "cell_type": "code",
      "metadata": {
        "id": "LofLw2QTSWOP",
        "colab": {
          "base_uri": "https://localhost:8080/"
        },
        "outputId": "389002b5-795f-47a0-fdbf-32958d585486"
      },
      "source": [
        "#Find the max value of a\n",
        "np.max(a)\n"
      ],
      "id": "LofLw2QTSWOP",
      "execution_count": 26,
      "outputs": [
        {
          "output_type": "execute_result",
          "data": {
            "text/plain": [
              "9"
            ]
          },
          "metadata": {
            "tags": []
          },
          "execution_count": 26
        }
      ]
    },
    {
      "cell_type": "code",
      "metadata": {
        "id": "5-xFPjQkSWOP",
        "colab": {
          "base_uri": "https://localhost:8080/"
        },
        "outputId": "bbfc53ce-8030-4645-ba52-a45f27889133"
      },
      "source": [
        "#Find the min value of a\n",
        "\n",
        "np.min(a)"
      ],
      "id": "5-xFPjQkSWOP",
      "execution_count": 27,
      "outputs": [
        {
          "output_type": "execute_result",
          "data": {
            "text/plain": [
              "0"
            ]
          },
          "metadata": {
            "tags": []
          },
          "execution_count": 27
        }
      ]
    },
    {
      "cell_type": "code",
      "metadata": {
        "id": "jQUFfKumSWOP",
        "colab": {
          "base_uri": "https://localhost:8080/"
        },
        "outputId": "3a6ed91b-748a-4336-8e89-c5466e23f464"
      },
      "source": [
        "# Find the index of the maximum element in a\n",
        "\n",
        "np.argmax(a)"
      ],
      "id": "jQUFfKumSWOP",
      "execution_count": 28,
      "outputs": [
        {
          "output_type": "execute_result",
          "data": {
            "text/plain": [
              "9"
            ]
          },
          "metadata": {
            "tags": []
          },
          "execution_count": 28
        }
      ]
    },
    {
      "cell_type": "markdown",
      "metadata": {
        "id": "klrqGOR4SWOP"
      },
      "source": [
        "## 9. Hstack and vstack\n",
        "\n",
        "Reference: https://www.youtube.com/watch?v=ksqPbrS-b78"
      ],
      "id": "klrqGOR4SWOP"
    },
    {
      "cell_type": "markdown",
      "metadata": {
        "id": "EUa4BjRdSWOP"
      },
      "source": [
        "<p style='text-align: right;'> 1 + 1 + 2 + 2 = 6 points</p>\n"
      ],
      "id": "EUa4BjRdSWOP"
    },
    {
      "cell_type": "markdown",
      "metadata": {
        "id": "tUWPiRjDSWOP"
      },
      "source": [
        "Create a = np.array( [ [1, 2, 3], [ 4, 5, 6], [7 ,8, 9] ]) and print a."
      ],
      "id": "tUWPiRjDSWOP"
    },
    {
      "cell_type": "code",
      "metadata": {
        "id": "uzZal11ESWOP",
        "colab": {
          "base_uri": "https://localhost:8080/"
        },
        "outputId": "4a7b2851-4aba-462c-815a-b065812d9f0d"
      },
      "source": [
        "a = np.array( [ [1, 2, 3], [ 4, 5, 6], [7 ,8, 9] ])\n",
        "print(a)"
      ],
      "id": "uzZal11ESWOP",
      "execution_count": 30,
      "outputs": [
        {
          "output_type": "stream",
          "text": [
            "[[1 2 3]\n",
            " [4 5 6]\n",
            " [7 8 9]]\n"
          ],
          "name": "stdout"
        }
      ]
    },
    {
      "cell_type": "markdown",
      "metadata": {
        "id": "sljZguKHSWOP"
      },
      "source": [
        "Create b = np.array( [ [10, 11, 12] , [13,14,15], [16, 17, 18] ]) and print b\n"
      ],
      "id": "sljZguKHSWOP"
    },
    {
      "cell_type": "code",
      "metadata": {
        "id": "yG25YIeSSWOP",
        "colab": {
          "base_uri": "https://localhost:8080/"
        },
        "outputId": "e3d3420f-8ae2-4314-acfc-bffa28b13175"
      },
      "source": [
        "b = np.array( [ [10, 11, 12] , [13,14,15], [16, 17, 18] ])\n",
        "print(b)"
      ],
      "id": "yG25YIeSSWOP",
      "execution_count": 31,
      "outputs": [
        {
          "output_type": "stream",
          "text": [
            "[[10 11 12]\n",
            " [13 14 15]\n",
            " [16 17 18]]\n"
          ],
          "name": "stdout"
        }
      ]
    },
    {
      "cell_type": "markdown",
      "metadata": {
        "id": "sqFsK83KSWOP"
      },
      "source": [
        "Create a new array c stacking a and b horizontally, print the values and shape of this array."
      ],
      "id": "sqFsK83KSWOP"
    },
    {
      "cell_type": "code",
      "metadata": {
        "id": "YJ-pyQPaSWOQ",
        "colab": {
          "base_uri": "https://localhost:8080/"
        },
        "outputId": "a4209a93-ef35-452c-b148-cc8ed6459e53"
      },
      "source": [
        "c=np.hstack([a,b])\n",
        "print(c)\n",
        "c.shape"
      ],
      "id": "YJ-pyQPaSWOQ",
      "execution_count": 34,
      "outputs": [
        {
          "output_type": "stream",
          "text": [
            "[[ 1  2  3 10 11 12]\n",
            " [ 4  5  6 13 14 15]\n",
            " [ 7  8  9 16 17 18]]\n"
          ],
          "name": "stdout"
        },
        {
          "output_type": "execute_result",
          "data": {
            "text/plain": [
              "(3, 6)"
            ]
          },
          "metadata": {
            "tags": []
          },
          "execution_count": 34
        }
      ]
    },
    {
      "cell_type": "markdown",
      "metadata": {
        "id": "P0IyLJMXSWOQ"
      },
      "source": [
        "Create a new array d stacking a and b vertically, print the values and shape of this array."
      ],
      "id": "P0IyLJMXSWOQ"
    },
    {
      "cell_type": "code",
      "metadata": {
        "id": "y8GyH4DkSWOQ",
        "colab": {
          "base_uri": "https://localhost:8080/"
        },
        "outputId": "c1ecf366-107d-45c1-af6f-5103fa4760e5"
      },
      "source": [
        "d=np.vstack([a,b])\n",
        "print(d)\n",
        "d.shape"
      ],
      "id": "y8GyH4DkSWOQ",
      "execution_count": 35,
      "outputs": [
        {
          "output_type": "stream",
          "text": [
            "[[ 1  2  3]\n",
            " [ 4  5  6]\n",
            " [ 7  8  9]\n",
            " [10 11 12]\n",
            " [13 14 15]\n",
            " [16 17 18]]\n"
          ],
          "name": "stdout"
        },
        {
          "output_type": "execute_result",
          "data": {
            "text/plain": [
              "(6, 3)"
            ]
          },
          "metadata": {
            "tags": []
          },
          "execution_count": 35
        }
      ]
    },
    {
      "cell_type": "markdown",
      "metadata": {
        "id": "s-6JfmBfSWOQ"
      },
      "source": [
        "____________\n",
        "\n",
        "# Woohoo!!! you completed the 3rd milestone challenge too! Congratulations. \n",
        "\n",
        "\n",
        "\n",
        "____________"
      ],
      "id": "s-6JfmBfSWOQ"
    },
    {
      "cell_type": "markdown",
      "metadata": {
        "id": "CG6h_jBBkqhy"
      },
      "source": [
        "# FeedBack\n",
        "We hope you’ve enjoyed this course so far. We’re committed to help you use \"AI for All\" course to its full potential, so that you have a great learning experience. And that’s why we need your help in form of a feedback here.\n",
        "\n",
        "**Please fill this feedback form**\n",
        "https://docs.google.com/forms/d/e/1FAIpQLSfjBmH0yJSSA34IhSVx4h2eDMgOAeG4Dk-yHid__NMTk3Hq5g/viewform"
      ],
      "id": "CG6h_jBBkqhy"
    },
    {
      "cell_type": "code",
      "metadata": {
        "id": "ZHJv8dLPeRRI"
      },
      "source": [
        ""
      ],
      "id": "ZHJv8dLPeRRI",
      "execution_count": null,
      "outputs": []
    }
  ]
}