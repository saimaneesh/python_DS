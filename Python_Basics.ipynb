{
  "nbformat": 4,
  "nbformat_minor": 0,
  "metadata": {
    "colab": {
      "name": "Python Basics.ipynb",
      "provenance": [],
      "collapsed_sections": [],
      "include_colab_link": true
    },
    "kernelspec": {
      "display_name": "Python 3",
      "language": "python",
      "name": "python3"
    },
    "language_info": {
      "codemirror_mode": {
        "name": "ipython",
        "version": 3
      },
      "file_extension": ".py",
      "mimetype": "text/x-python",
      "name": "python",
      "nbconvert_exporter": "python",
      "pygments_lexer": "ipython3",
      "version": "3.7.4"
    }
  },
  "cells": [
    {
      "cell_type": "markdown",
      "metadata": {
        "id": "view-in-github",
        "colab_type": "text"
      },
      "source": [
        "<a href=\"https://colab.research.google.com/github/saimaneesh/python_beg/blob/master/Python_Basics.ipynb\" target=\"_parent\"><img src=\"https://colab.research.google.com/assets/colab-badge.svg\" alt=\"Open In Colab\"/></a>"
      ]
    },
    {
      "cell_type": "markdown",
      "metadata": {
        "id": "KjKXGcSxeNXM"
      },
      "source": [
        "# <center> Python basics</center>"
      ]
    },
    {
      "cell_type": "markdown",
      "metadata": {
        "id": "9p1Ufa7ceNXQ"
      },
      "source": [
        "## Variable declaration"
      ]
    },
    {
      "cell_type": "markdown",
      "metadata": {
        "id": "4sR5efaCeNXQ"
      },
      "source": [
        "Covers the topic of variable declaration and type of variables\n",
        "\n",
        "reference:- https://youtu.be/RVYY7zMiPbg"
      ]
    },
    {
      "cell_type": "markdown",
      "metadata": {
        "id": "KE7co6gleNXQ"
      },
      "source": [
        "<p style='text-align: right;'> 1+1+1+1+1 = 5 points</p>\n"
      ]
    },
    {
      "cell_type": "code",
      "metadata": {
        "id": "vO08gwqneNXR"
      },
      "source": [
        "# declare two variables, a = 5, b = 'city'\n",
        "a = 5 # your code here\n",
        "b = 'city' # your code here"
      ],
      "execution_count": 111,
      "outputs": []
    },
    {
      "cell_type": "code",
      "metadata": {
        "id": "scAjfXbYeNXR",
        "colab": {
          "base_uri": "https://localhost:8080/"
        },
        "outputId": "7235e130-1091-4343-883e-2974f42f52c7"
      },
      "source": [
        "# print type of a\n",
        "print(type(a))"
      ],
      "execution_count": 112,
      "outputs": [
        {
          "output_type": "stream",
          "text": [
            "<class 'int'>\n"
          ],
          "name": "stdout"
        }
      ]
    },
    {
      "cell_type": "code",
      "metadata": {
        "id": "QjRcLLnieNXR",
        "colab": {
          "base_uri": "https://localhost:8080/"
        },
        "outputId": "e9a50810-3b74-46d2-8c47-3b14f6e34e06"
      },
      "source": [
        "# print type of b\n",
        "\n",
        "print(type(b))"
      ],
      "execution_count": 113,
      "outputs": [
        {
          "output_type": "stream",
          "text": [
            "<class 'str'>\n"
          ],
          "name": "stdout"
        }
      ]
    },
    {
      "cell_type": "code",
      "metadata": {
        "id": "Qmbw_6M-eNXS"
      },
      "source": [
        "# swap the values of a and b\n",
        "\n",
        "a,b=b,a"
      ],
      "execution_count": 114,
      "outputs": []
    },
    {
      "cell_type": "code",
      "metadata": {
        "id": "YopoVVCAeNXS",
        "colab": {
          "base_uri": "https://localhost:8080/"
        },
        "outputId": "6d6a60ee-5b07-4617-c9fd-19aca25d0c29"
      },
      "source": [
        "# run this to confirm \n",
        "print('a = ' + str(a) + ' , b = ' + str(b))"
      ],
      "execution_count": 115,
      "outputs": [
        {
          "output_type": "stream",
          "text": [
            "a = city , b = 5\n"
          ],
          "name": "stdout"
        }
      ]
    },
    {
      "cell_type": "markdown",
      "metadata": {
        "id": "a_v4KypaeNXS"
      },
      "source": [
        "## Arithmetic Operations"
      ]
    },
    {
      "cell_type": "markdown",
      "metadata": {
        "id": "oimyvbWbeNXS"
      },
      "source": [
        "Simple mathematical operations and using math module to apply mathematical functions"
      ]
    },
    {
      "cell_type": "markdown",
      "metadata": {
        "id": "MXIsatRMeNXS"
      },
      "source": [
        "- Mathematical operations\n",
        "\n",
        "reference:- https://youtu.be/0-hzxfkpHy8"
      ]
    },
    {
      "cell_type": "markdown",
      "metadata": {
        "id": "KrbCKjEfeNXS"
      },
      "source": [
        "<p style='text-align: right;'> 1 + 7 = 8 points </p>\n"
      ]
    },
    {
      "cell_type": "code",
      "metadata": {
        "colab": {
          "base_uri": "https://localhost:8080/"
        },
        "id": "2v8qg_9deNXT",
        "outputId": "928e7cc0-38c7-478b-f0fa-5047526d9ffa"
      },
      "source": [
        "# declare two variables, a = 24, b = 3\n",
        "\n",
        "a = 24 # your code here\n",
        "b =  3  # your code here\n",
        "print('a = {}, b = {}'.format(a,b))"
      ],
      "execution_count": 116,
      "outputs": [
        {
          "output_type": "stream",
          "text": [
            "a = 24, b = 3\n"
          ],
          "name": "stdout"
        }
      ]
    },
    {
      "cell_type": "code",
      "metadata": {
        "colab": {
          "base_uri": "https://localhost:8080/"
        },
        "id": "5ZDI9lYXeNXT",
        "outputId": "a9b66329-8249-4551-84c3-678f53160446"
      },
      "source": [
        "# calculate and print all the possible numeriacl operations on a and b (There are total 7 operations)\n",
        "\n",
        "print('a+b =',a+b)\n",
        "print('a-b =',a-b)\n",
        "print('a*b =',a*b)\n",
        "print('a/b =',a/b)\n",
        "print('a%b =',a%b)\n",
        "print('a//b =',a//b)\n",
        "print('a^b =',a**b)"
      ],
      "execution_count": 117,
      "outputs": [
        {
          "output_type": "stream",
          "text": [
            "a+b = 27\n",
            "a-b = 21\n",
            "a*b = 72\n",
            "a/b = 8.0\n",
            "a%b = 0\n",
            "a//b = 8\n",
            "a^b = 13824\n"
          ],
          "name": "stdout"
        }
      ]
    },
    {
      "cell_type": "markdown",
      "metadata": {
        "id": "72RJqXFDeNXT"
      },
      "source": [
        "## Math Functions"
      ]
    },
    {
      "cell_type": "markdown",
      "metadata": {
        "id": "9inWZMVBeNXT"
      },
      "source": [
        "Math module contains various mathematical functions. \n",
        "\n",
        "Reference:- https://youtu.be/gktjNyV0xks"
      ]
    },
    {
      "cell_type": "markdown",
      "metadata": {
        "id": "760Q04pmeNXT"
      },
      "source": [
        "<p style='text-align: right;'> 1 + 4 = 5 points </p>\n"
      ]
    },
    {
      "cell_type": "code",
      "metadata": {
        "id": "96VQV_7xeNXT",
        "colab": {
          "base_uri": "https://localhost:8080/"
        },
        "outputId": "523b1368-464c-487a-9cfe-e55ab5f6ff66"
      },
      "source": [
        "import math\n",
        "# declare a variable a = 2\n",
        "a =  2 #your code here\n",
        "print('a = ',a)"
      ],
      "execution_count": 118,
      "outputs": [
        {
          "output_type": "stream",
          "text": [
            "a =  2\n"
          ],
          "name": "stdout"
        }
      ]
    },
    {
      "cell_type": "code",
      "metadata": {
        "id": "MP7p4aqXeNXT"
      },
      "source": [
        "# declare a variable x = 2 and y=5.32167\n",
        "\n",
        "x= 2 #code here\n",
        "y=5.32167 #code here"
      ],
      "execution_count": 119,
      "outputs": []
    },
    {
      "cell_type": "code",
      "metadata": {
        "id": "e-83j1adeNXT",
        "colab": {
          "base_uri": "https://localhost:8080/"
        },
        "outputId": "898d1c44-3e63-4280-bf83-8897d59d9151"
      },
      "source": [
        "# Print the maximum value between x and y\n",
        "print(max(x,y))\n"
      ],
      "execution_count": 120,
      "outputs": [
        {
          "output_type": "stream",
          "text": [
            "5.32167\n"
          ],
          "name": "stdout"
        }
      ]
    },
    {
      "cell_type": "code",
      "metadata": {
        "id": "L7k75CdJeNXU",
        "colab": {
          "base_uri": "https://localhost:8080/"
        },
        "outputId": "622de469-608a-46b4-9994-7a546fac3844"
      },
      "source": [
        "# Round value of y upto 2 decimal places\n",
        "\n",
        "print(round(y,2))"
      ],
      "execution_count": 121,
      "outputs": [
        {
          "output_type": "stream",
          "text": [
            "5.32\n"
          ],
          "name": "stdout"
        }
      ]
    },
    {
      "cell_type": "code",
      "metadata": {
        "id": "mqnxWyVPeNXU",
        "colab": {
          "base_uri": "https://localhost:8080/"
        },
        "outputId": "02f80e5d-7f51-4f50-9bab-6f6dd7f8288f"
      },
      "source": [
        "# Print square and cube of x and store in a and b variable\n",
        "a=x**2\n",
        "b=x**3\n",
        "print(a,b,sep='\\n')\n"
      ],
      "execution_count": 122,
      "outputs": [
        {
          "output_type": "stream",
          "text": [
            "4\n",
            "8\n"
          ],
          "name": "stdout"
        }
      ]
    },
    {
      "cell_type": "code",
      "metadata": {
        "id": "wIckQ1nueNXU",
        "colab": {
          "base_uri": "https://localhost:8080/"
        },
        "outputId": "a548b26b-3fcd-4c2c-c3b5-957a8c3f7356"
      },
      "source": [
        "#print log of x and store it in variable c\n",
        "\n",
        "c=math.log(x)\n",
        "print(c)"
      ],
      "execution_count": 123,
      "outputs": [
        {
          "output_type": "stream",
          "text": [
            "0.6931471805599453\n"
          ],
          "name": "stdout"
        }
      ]
    },
    {
      "cell_type": "code",
      "metadata": {
        "id": "81OO8rLZeNXU",
        "colab": {
          "base_uri": "https://localhost:8080/"
        },
        "outputId": "c7edc2b4-6dfa-465f-c972-4affc2d18be4"
      },
      "source": [
        "#print minimum value between x,y,a, b and c\n",
        "\n",
        "print(min(x,y,a,b,c))"
      ],
      "execution_count": 124,
      "outputs": [
        {
          "output_type": "stream",
          "text": [
            "0.6931471805599453\n"
          ],
          "name": "stdout"
        }
      ]
    },
    {
      "cell_type": "code",
      "metadata": {
        "id": "IVoJv4qNeNXU",
        "colab": {
          "base_uri": "https://localhost:8080/"
        },
        "outputId": "564a451f-8e87-4d7f-e432-fa3e78b9c357"
      },
      "source": [
        "#print the largest integer not greater than c.\n",
        "\n",
        "print(math.floor(c))"
      ],
      "execution_count": 125,
      "outputs": [
        {
          "output_type": "stream",
          "text": [
            "0\n"
          ],
          "name": "stdout"
        }
      ]
    },
    {
      "cell_type": "code",
      "metadata": {
        "id": "P7-6VgAMeNXU",
        "colab": {
          "base_uri": "https://localhost:8080/"
        },
        "outputId": "d34b9cc7-b7c8-49f1-ed08-bfd2a3a17b72"
      },
      "source": [
        "#print the smallest integer not less than c.\n",
        "print(math.ceil(c))\n"
      ],
      "execution_count": 126,
      "outputs": [
        {
          "output_type": "stream",
          "text": [
            "1\n"
          ],
          "name": "stdout"
        }
      ]
    },
    {
      "cell_type": "markdown",
      "metadata": {
        "id": "CpK_SvIbeNXV"
      },
      "source": [
        "## Logical opeations\n",
        "\n",
        "Reference:- https://youtu.be/9w992l9TFIs"
      ]
    },
    {
      "cell_type": "markdown",
      "metadata": {
        "id": "GX4Z0AnteNXV"
      },
      "source": [
        "<p style='text-align: right;'> 1 + 1 + 1 + 6 = 9 points </p>\n"
      ]
    },
    {
      "cell_type": "code",
      "metadata": {
        "id": "wYpbM_fveNXV",
        "colab": {
          "base_uri": "https://localhost:8080/"
        },
        "outputId": "dcb450f2-ed59-4025-b99c-ab9ae4524263"
      },
      "source": [
        "# declare two variables, a = True, b = False\n",
        "\n",
        "a = True #your code here\n",
        "b = False #your code here\n",
        "\n",
        "print(a)\n",
        "print(b)"
      ],
      "execution_count": 127,
      "outputs": [
        {
          "output_type": "stream",
          "text": [
            "True\n",
            "False\n"
          ],
          "name": "stdout"
        }
      ]
    },
    {
      "cell_type": "code",
      "metadata": {
        "id": "vgpEU8_neNXV",
        "colab": {
          "base_uri": "https://localhost:8080/"
        },
        "outputId": "11d0bfab-86b3-4b5c-b6b4-55b512811784"
      },
      "source": [
        "# print type of a and type of b\n",
        "\n",
        "print('type of a is',type(a))\n",
        "print('type of b is',type(b))\n"
      ],
      "execution_count": 128,
      "outputs": [
        {
          "output_type": "stream",
          "text": [
            "type of a is <class 'bool'>\n",
            "type of b is <class 'bool'>\n"
          ],
          "name": "stdout"
        }
      ]
    },
    {
      "cell_type": "code",
      "metadata": {
        "id": "D2rgf--9eNXV",
        "colab": {
          "base_uri": "https://localhost:8080/"
        },
        "outputId": "d3df2edf-043a-434d-fd16-8d0e41127fdb"
      },
      "source": [
        "# print int(a) and int(b)\n",
        "print('int of a is',int(a))\n",
        "print('int of b is',int(b))"
      ],
      "execution_count": 129,
      "outputs": [
        {
          "output_type": "stream",
          "text": [
            "int of a is 1\n",
            "int of b is 0\n"
          ],
          "name": "stdout"
        }
      ]
    },
    {
      "cell_type": "code",
      "metadata": {
        "id": "ah900wkaeNXV",
        "colab": {
          "base_uri": "https://localhost:8080/"
        },
        "outputId": "2db529d4-a536-4b86-b8d3-8af1c50c4f77"
      },
      "source": [
        "# Find and print the values of not a, not b, a and b, a or b, a and not b\n",
        "print('not a =',not a)\n",
        "print('not b =',not b)\n",
        "print('a and b =',a and b)\n",
        "print('a or b =',a or b)\n",
        "print('a and not b =',a and not b)\n",
        "\n",
        "\n",
        "\n"
      ],
      "execution_count": 130,
      "outputs": [
        {
          "output_type": "stream",
          "text": [
            "not a = False\n",
            "not b = True\n",
            "a and b = False\n",
            "a or b = True\n",
            "a and not b = True\n"
          ],
          "name": "stdout"
        }
      ]
    },
    {
      "cell_type": "markdown",
      "metadata": {
        "id": "l4JVbYR8eNXV"
      },
      "source": [
        "## List Comprehensions\n",
        "\n",
        "Reference:- https://youtu.be/17gTGqHG5xQ"
      ]
    },
    {
      "cell_type": "markdown",
      "metadata": {
        "id": "0CIutYHieNXV"
      },
      "source": [
        "<p style='text-align: right;'> 10 + 10 + 10= 30 points </p>\n"
      ]
    },
    {
      "cell_type": "code",
      "metadata": {
        "id": "anJ88T28eNXW",
        "colab": {
          "base_uri": "https://localhost:8080/"
        },
        "outputId": "2c9750df-acb3-4778-82b2-39a6b0029fa1"
      },
      "source": [
        "# Using list comprehension, create a list containing numbers from 1 to 20.\n",
        "\n",
        "l1 = [i for i in range(1,21)]#your code here\n",
        "\n",
        "print(l1)"
      ],
      "execution_count": 131,
      "outputs": [
        {
          "output_type": "stream",
          "text": [
            "[1, 2, 3, 4, 5, 6, 7, 8, 9, 10, 11, 12, 13, 14, 15, 16, 17, 18, 19, 20]\n"
          ],
          "name": "stdout"
        }
      ]
    },
    {
      "cell_type": "code",
      "metadata": {
        "id": "7lZ1y452eNXW",
        "colab": {
          "base_uri": "https://localhost:8080/"
        },
        "outputId": "af7dd220-adbe-456f-cca5-2f2d71e017da"
      },
      "source": [
        "# Using list comprehension, create a list containing numbers from 1 to 20 that are even\n",
        "\n",
        "l2 = [i for i in l1 if i%2==0] #your code here\n",
        "\n",
        "print(l2)"
      ],
      "execution_count": 132,
      "outputs": [
        {
          "output_type": "stream",
          "text": [
            "[2, 4, 6, 8, 10, 12, 14, 16, 18, 20]\n"
          ],
          "name": "stdout"
        }
      ]
    },
    {
      "cell_type": "markdown",
      "metadata": {
        "id": "bD4TcJvreNXW"
      },
      "source": [
        "Create a list of all the fruits you like. Using list comprehension, create another list which contains the length of fruits corresponding fruits\n",
        "- Eg. fruits = [‘apple’,’kiwi’,’orange’], then output would be - [5,4,6]\n"
      ]
    },
    {
      "cell_type": "code",
      "metadata": {
        "id": "flZPD3o5eNXW",
        "colab": {
          "base_uri": "https://localhost:8080/"
        },
        "outputId": "2c883415-9189-4f1b-d36d-6761d3dfeb32"
      },
      "source": [
        "fruits = ['apple','kiwi','orange']# your code here (create a list of your favourite fruits)\n",
        "len_fruits = [len(i) for i in fruits]# your code here\n",
        "\n",
        "print(fruits)\n",
        "print(len_fruits)"
      ],
      "execution_count": 133,
      "outputs": [
        {
          "output_type": "stream",
          "text": [
            "['apple', 'kiwi', 'orange']\n",
            "[5, 4, 6]\n"
          ],
          "name": "stdout"
        }
      ]
    },
    {
      "cell_type": "markdown",
      "metadata": {
        "id": "q07oOsRCeNXW"
      },
      "source": [
        "The above output is shown if fruits = ['apple','kiwi,'orange'], it can vary for different values of fruits"
      ]
    },
    {
      "cell_type": "markdown",
      "metadata": {
        "id": "IDDz4_e0eNXW"
      },
      "source": [
        "## String value and operators"
      ]
    },
    {
      "cell_type": "markdown",
      "metadata": {
        "id": "qps_eW_PeNXW"
      },
      "source": [
        "<p style='text-align: right;'> 1 + 1 + 1 + 1 + 1 = 5 points </p>\n"
      ]
    },
    {
      "cell_type": "markdown",
      "metadata": {
        "id": "6Ipf08Q7eNXW"
      },
      "source": [
        "### Characters in strings\n",
        "\n",
        "Reference:-  https://youtu.be/LnQDWIMaJlA"
      ]
    },
    {
      "cell_type": "code",
      "metadata": {
        "id": "OoTi1ofVeNXW"
      },
      "source": [
        "# declare the variables x and y\n",
        "\n",
        "x = 'cat' #your code here\n",
        "y = 'dog'#your code here\n"
      ],
      "execution_count": 134,
      "outputs": []
    },
    {
      "cell_type": "code",
      "metadata": {
        "id": "XAIFbrDTeNXX",
        "colab": {
          "base_uri": "https://localhost:8080/"
        },
        "outputId": "afb42b6f-a364-4d50-fb96-a779fa8c60e0"
      },
      "source": [
        "#Print both the strings\n",
        "\n",
        "print(x,y,sep='\\n')"
      ],
      "execution_count": 135,
      "outputs": [
        {
          "output_type": "stream",
          "text": [
            "cat\n",
            "dog\n"
          ],
          "name": "stdout"
        }
      ]
    },
    {
      "cell_type": "code",
      "metadata": {
        "id": "FWK03roMeNXX",
        "colab": {
          "base_uri": "https://localhost:8080/"
        },
        "outputId": "e57d724d-539e-4434-816f-767a97752281"
      },
      "source": [
        "#Print first character of both x and y. \n",
        "print('First ch of X =',x[0])\n",
        "print('First ch of y =',y[0])"
      ],
      "execution_count": 136,
      "outputs": [
        {
          "output_type": "stream",
          "text": [
            "First ch of X = c\n",
            "First ch of y = d\n"
          ],
          "name": "stdout"
        }
      ]
    },
    {
      "cell_type": "code",
      "metadata": {
        "id": "h_KwSiO0eNXX",
        "colab": {
          "base_uri": "https://localhost:8080/"
        },
        "outputId": "7b1a4704-e6b7-4832-e7bc-ad4e5f28da08"
      },
      "source": [
        "#Print last character of both x and y.\n",
        "print('Last ch of x =',x[-1])\n",
        "print('Last ch of y =',y[-1])\n",
        "\n"
      ],
      "execution_count": 137,
      "outputs": [
        {
          "output_type": "stream",
          "text": [
            "Last ch of x = t\n",
            "Last ch of y = g\n"
          ],
          "name": "stdout"
        }
      ]
    },
    {
      "cell_type": "code",
      "metadata": {
        "id": "0wkKYH5deNXX",
        "colab": {
          "base_uri": "https://localhost:8080/"
        },
        "outputId": "2fcf7cc8-21a7-4547-cbfb-1afae3e8f533"
      },
      "source": [
        "#Print len of both x and y\n",
        "\n",
        "print('Length of x is',len(x))\n",
        "\n",
        "print('Length of y is',len(y))"
      ],
      "execution_count": 138,
      "outputs": [
        {
          "output_type": "stream",
          "text": [
            "Length of x is 3\n",
            "Length of y is 3\n"
          ],
          "name": "stdout"
        }
      ]
    },
    {
      "cell_type": "code",
      "metadata": {
        "id": "7MTxU6BDeNXX",
        "colab": {
          "base_uri": "https://localhost:8080/"
        },
        "outputId": "70e41506-4127-4205-d00b-37729150918f"
      },
      "source": [
        "#concatenate both x and y and store it in variable z and print z\n",
        "\n",
        "z=x+y\n",
        "print(z)"
      ],
      "execution_count": 139,
      "outputs": [
        {
          "output_type": "stream",
          "text": [
            "catdog\n"
          ],
          "name": "stdout"
        }
      ]
    },
    {
      "cell_type": "code",
      "metadata": {
        "id": "hF-zdXhceNXX",
        "colab": {
          "base_uri": "https://localhost:8080/"
        },
        "outputId": "9c425d9e-977e-4c2c-976c-6611fd6ad99e"
      },
      "source": [
        "#check if x is part of z \n",
        "print(x in z)\n"
      ],
      "execution_count": 140,
      "outputs": [
        {
          "output_type": "stream",
          "text": [
            "True\n"
          ],
          "name": "stdout"
        }
      ]
    },
    {
      "cell_type": "markdown",
      "metadata": {
        "id": "clm-IjeGeNXX"
      },
      "source": [
        "### String slicing"
      ]
    },
    {
      "cell_type": "markdown",
      "metadata": {
        "id": "mewIf8iTeNXX"
      },
      "source": [
        "<p style='text-align: right;'> 2 points </p>"
      ]
    },
    {
      "cell_type": "code",
      "metadata": {
        "id": "bsCJMXk6eNXX",
        "colab": {
          "base_uri": "https://localhost:8080/"
        },
        "outputId": "bb635e01-fad3-40fb-cff6-783b401cba28"
      },
      "source": [
        "#Create variable a = “pineapple”\n",
        "a = 'pineapple'# your code here\n",
        "\n",
        "print(a)"
      ],
      "execution_count": 141,
      "outputs": [
        {
          "output_type": "stream",
          "text": [
            "pineapple\n"
          ],
          "name": "stdout"
        }
      ]
    },
    {
      "cell_type": "code",
      "metadata": {
        "id": "Gx1aw_kieNXY",
        "colab": {
          "base_uri": "https://localhost:8080/"
        },
        "outputId": "3e03b2cf-ba34-4260-d504-c2d3ec819b2d"
      },
      "source": [
        "# Using index slicing, print the words ‘pine’ and “apple”.\n",
        "# HINT - a[:]\n",
        "print(a[:4])\n",
        "print(a[4:])\n"
      ],
      "execution_count": 142,
      "outputs": [
        {
          "output_type": "stream",
          "text": [
            "pine\n",
            "apple\n"
          ],
          "name": "stdout"
        }
      ]
    },
    {
      "cell_type": "code",
      "metadata": {
        "id": "k-rs1GYmeNXY",
        "colab": {
          "base_uri": "https://localhost:8080/",
          "height": 35
        },
        "outputId": "48f7e5d2-3792-4417-d88f-06376cc1d03f"
      },
      "source": [
        "#Convert a into upper case\n",
        "a.upper()\n"
      ],
      "execution_count": 143,
      "outputs": [
        {
          "output_type": "execute_result",
          "data": {
            "application/vnd.google.colaboratory.intrinsic+json": {
              "type": "string"
            },
            "text/plain": [
              "'PINEAPPLE'"
            ]
          },
          "metadata": {
            "tags": []
          },
          "execution_count": 143
        }
      ]
    },
    {
      "cell_type": "markdown",
      "metadata": {
        "id": "Z8XcOd5-eNXY"
      },
      "source": [
        "## Sentences"
      ]
    },
    {
      "cell_type": "markdown",
      "metadata": {
        "id": "ReZ5tbFAeNXY"
      },
      "source": [
        "<p style='text-align: right;'> 1+1+1+1+1+1 = 6 points </p>\n"
      ]
    },
    {
      "cell_type": "code",
      "metadata": {
        "id": "dL4G-RTteNXY",
        "colab": {
          "base_uri": "https://localhost:8080/"
        },
        "outputId": "e931b69d-a5b8-473b-dbd3-05cd447c14d4"
      },
      "source": [
        "# Declare a sentence of ‘I am flying to London’\n",
        "sent = 'I am flying to London'# your code here\n",
        "\n",
        "print(sent)"
      ],
      "execution_count": 144,
      "outputs": [
        {
          "output_type": "stream",
          "text": [
            "I am flying to London\n"
          ],
          "name": "stdout"
        }
      ]
    },
    {
      "cell_type": "code",
      "metadata": {
        "id": "LA-HL-kaeNXY",
        "colab": {
          "base_uri": "https://localhost:8080/"
        },
        "outputId": "78b581bc-e196-4f2c-bebb-9620dfa6bf8f"
      },
      "source": [
        "#Print len of the sentence\n",
        "\n",
        "print(\"Len of sentence is\",len(sent))"
      ],
      "execution_count": 145,
      "outputs": [
        {
          "output_type": "stream",
          "text": [
            "Len of sentence is 21\n"
          ],
          "name": "stdout"
        }
      ]
    },
    {
      "cell_type": "code",
      "metadata": {
        "id": "fe-uTW_9eNXY",
        "colab": {
          "base_uri": "https://localhost:8080/",
          "height": 35
        },
        "outputId": "a5d56505-c9bd-4321-a15e-eca346f96b15"
      },
      "source": [
        "#Using list comprehension, print the word London\n",
        "[i for i in sent.split() ][-1]\n"
      ],
      "execution_count": 146,
      "outputs": [
        {
          "output_type": "execute_result",
          "data": {
            "application/vnd.google.colaboratory.intrinsic+json": {
              "type": "string"
            },
            "text/plain": [
              "'London'"
            ]
          },
          "metadata": {
            "tags": []
          },
          "execution_count": 146
        }
      ]
    },
    {
      "cell_type": "code",
      "metadata": {
        "id": "HIekhMtXeNXY",
        "colab": {
          "base_uri": "https://localhost:8080/"
        },
        "outputId": "a5443d38-7f1d-4307-aaa7-470fb52bef85"
      },
      "source": [
        "# Use .split to get list of individual words in the sentence\n",
        "sent.split()\n"
      ],
      "execution_count": 147,
      "outputs": [
        {
          "output_type": "execute_result",
          "data": {
            "text/plain": [
              "['I', 'am', 'flying', 'to', 'London']"
            ]
          },
          "metadata": {
            "tags": []
          },
          "execution_count": 147
        }
      ]
    },
    {
      "cell_type": "code",
      "metadata": {
        "id": "pZdbgHX3eNXZ",
        "colab": {
          "base_uri": "https://localhost:8080/",
          "height": 35
        },
        "outputId": "0f8f9722-613b-4417-c544-067c4520ecc4"
      },
      "source": [
        "# Convert sentence in lower case \n",
        "\n",
        "sent.lower()"
      ],
      "execution_count": 148,
      "outputs": [
        {
          "output_type": "execute_result",
          "data": {
            "application/vnd.google.colaboratory.intrinsic+json": {
              "type": "string"
            },
            "text/plain": [
              "'i am flying to london'"
            ]
          },
          "metadata": {
            "tags": []
          },
          "execution_count": 148
        }
      ]
    },
    {
      "cell_type": "code",
      "metadata": {
        "id": "J2zWMRxTeNXZ",
        "colab": {
          "base_uri": "https://localhost:8080/",
          "height": 35
        },
        "outputId": "f54e4bd0-876a-48a0-c1a9-8151758f0ff9"
      },
      "source": [
        "# Convert sentence in upper case .\n",
        "sent.upper()\n"
      ],
      "execution_count": 149,
      "outputs": [
        {
          "output_type": "execute_result",
          "data": {
            "application/vnd.google.colaboratory.intrinsic+json": {
              "type": "string"
            },
            "text/plain": [
              "'I AM FLYING TO LONDON'"
            ]
          },
          "metadata": {
            "tags": []
          },
          "execution_count": 149
        }
      ]
    },
    {
      "cell_type": "markdown",
      "metadata": {
        "id": "OIX_zec1eNXZ"
      },
      "source": [
        "## Functions"
      ]
    },
    {
      "cell_type": "markdown",
      "metadata": {
        "id": "L0vLAhsKeNXZ"
      },
      "source": [
        "### Declare a function which  takes input as x, and returns the square of x. \n",
        "Reference:- https://youtu.be/Rpq9MC67M08"
      ]
    },
    {
      "cell_type": "markdown",
      "metadata": {
        "id": "arAkBy9SeNXZ"
      },
      "source": [
        "<p style='text-align: right;'> 5 + 3 = 8 points </p>\n"
      ]
    },
    {
      "cell_type": "code",
      "metadata": {
        "id": "hSiSaciReNXZ"
      },
      "source": [
        "def square(x):\n",
        "    '''\n",
        "    add your code\n",
        "    '''\n",
        "    x=x**2\n",
        "    return x"
      ],
      "execution_count": 150,
      "outputs": []
    },
    {
      "cell_type": "markdown",
      "metadata": {
        "id": "h-gWhymNeNXZ"
      },
      "source": [
        "Call the function to find the value of square of 9."
      ]
    },
    {
      "cell_type": "code",
      "metadata": {
        "id": "n39wXazoeNXZ",
        "colab": {
          "base_uri": "https://localhost:8080/"
        },
        "outputId": "18ea40e8-2181-49fd-942c-731edea73a1d"
      },
      "source": [
        "# find the value of square of 9 using the function square\n",
        "print('Square of 9 is',square(9))\n"
      ],
      "execution_count": 151,
      "outputs": [
        {
          "output_type": "stream",
          "text": [
            "Square of 9 is 81\n"
          ],
          "name": "stdout"
        }
      ]
    },
    {
      "cell_type": "markdown",
      "metadata": {
        "id": "kbMd0a5OeNXZ"
      },
      "source": [
        "### Define another function which checks whether a given number if odd or even, for a given input, it should print whether the given number is odd or even. "
      ]
    },
    {
      "cell_type": "markdown",
      "metadata": {
        "id": "GlFY1uvReNXZ"
      },
      "source": [
        "<p style='text-align: right;'> 5 + 3 = 8 points </p>\n"
      ]
    },
    {
      "cell_type": "code",
      "metadata": {
        "id": "Oja7v27TeNXa"
      },
      "source": [
        "# your code here\n",
        "def check_odd_even(x):\n",
        "    if x%2==0:\n",
        "   \n",
        "      return '{} is even'.format(x)\n",
        "    else:\n",
        "      return '{} is odd'.format(x)"
      ],
      "execution_count": 152,
      "outputs": []
    },
    {
      "cell_type": "markdown",
      "metadata": {
        "id": "qePe7xTqeNXa"
      },
      "source": [
        "Using both the functions to check whether the square of 3,6,21 is odd or even.\n"
      ]
    },
    {
      "cell_type": "code",
      "metadata": {
        "id": "SvPD7KIReNXa",
        "colab": {
          "base_uri": "https://localhost:8080/"
        },
        "outputId": "b62895ca-15be-4e6a-dc68-a8961673b865"
      },
      "source": [
        " # your code here\n",
        "print(check_odd_even(3))\n",
        "print(check_odd_even(6))\n",
        "print(check_odd_even(21))"
      ],
      "execution_count": 153,
      "outputs": [
        {
          "output_type": "stream",
          "text": [
            "3 is odd\n",
            "6 is even\n",
            "21 is odd\n"
          ],
          "name": "stdout"
        }
      ]
    },
    {
      "cell_type": "markdown",
      "metadata": {
        "id": "jq3_yMKzeNXa"
      },
      "source": [
        "# Loops and Iterations\n",
        "Reference:- https://youtu.be/6iF8Xb7Z3wQ"
      ]
    },
    {
      "cell_type": "markdown",
      "metadata": {
        "id": "PkaQt5bFeNXa"
      },
      "source": [
        "## If statement"
      ]
    },
    {
      "cell_type": "markdown",
      "metadata": {
        "id": "OvyolCD9eNXa"
      },
      "source": [
        "<p style='text-align: right;'> 1 + 2 + 3 = 6 points </p>\n"
      ]
    },
    {
      "cell_type": "code",
      "metadata": {
        "id": "TFWHRdSIeNXa",
        "colab": {
          "base_uri": "https://localhost:8080/"
        },
        "outputId": "dd24722c-7a93-4fec-d8fa-7001a85ce503"
      },
      "source": [
        "#Declare a variable x equal to a number of your choice.\n",
        "#your code here\n",
        "x =4 # add a number of your choice (mine is 3 :) )\n",
        "print(x)"
      ],
      "execution_count": 154,
      "outputs": [
        {
          "output_type": "stream",
          "text": [
            "4\n"
          ],
          "name": "stdout"
        }
      ]
    },
    {
      "cell_type": "code",
      "metadata": {
        "id": "5zdIP9qkeNXa",
        "colab": {
          "base_uri": "https://localhost:8080/"
        },
        "outputId": "c76fb76b-efeb-4ffb-b380-58f75bb597c0"
      },
      "source": [
        "#Using an if statement, print whether the number is 0, positive or negative.\n",
        "if x>0:\n",
        "  print(x,'is positive')\n",
        "elif x<0:\n",
        "  print(x,\"is negative\")\n",
        "else:\n",
        "  print(x,'is 0')\n"
      ],
      "execution_count": 155,
      "outputs": [
        {
          "output_type": "stream",
          "text": [
            "4 is positive\n"
          ],
          "name": "stdout"
        }
      ]
    },
    {
      "cell_type": "code",
      "metadata": {
        "id": "l5LgRlqpeNXa",
        "colab": {
          "base_uri": "https://localhost:8080/"
        },
        "outputId": "8fbb8ed4-bcf0-4d9c-f300-dd9f8b22c563"
      },
      "source": [
        "# Define a function, which takes input from the user and prints whether the given input is 0,positive or negative.\n",
        "\n",
        "def check_num(x):\n",
        "    if x>0:\n",
        "      return '{} is positive'.format(x)\n",
        "    elif x<0:\n",
        "      return \"{} is negative\".format(x)\n",
        "    else:\n",
        "      return '{} is zero'.format(x)\n",
        "\n",
        "print(check_num(10))\n",
        "print(check_num(-2))\n",
        "print(check_num(0))"
      ],
      "execution_count": 156,
      "outputs": [
        {
          "output_type": "stream",
          "text": [
            "10 is positive\n",
            "-2 is negative\n",
            "0 is zero\n"
          ],
          "name": "stdout"
        }
      ]
    },
    {
      "cell_type": "markdown",
      "metadata": {
        "id": "t_Wm6qQteNXa"
      },
      "source": [
        "## For loop"
      ]
    },
    {
      "cell_type": "markdown",
      "metadata": {
        "id": "5WW-_3D2eNXb"
      },
      "source": [
        "<p style='text-align: right;'> 2 points </p>\n"
      ]
    },
    {
      "cell_type": "code",
      "metadata": {
        "id": "1kfN4juZeNXb"
      },
      "source": [
        "#Create a list x, such that it contains the elements - ‘India’, ‘Israel’,’Canada’.\n",
        "\n",
        "x=['India', 'Israel','Canada']"
      ],
      "execution_count": 157,
      "outputs": []
    },
    {
      "cell_type": "code",
      "metadata": {
        "id": "pCpvEYO4eNXb",
        "colab": {
          "base_uri": "https://localhost:8080/"
        },
        "outputId": "f84cd6b3-c593-43be-c1ac-e43c9301e998"
      },
      "source": [
        "#Using For loop, iterate over the list and print the elements.\n",
        "\n",
        "for i in x:\n",
        "  print(i)"
      ],
      "execution_count": 158,
      "outputs": [
        {
          "output_type": "stream",
          "text": [
            "India\n",
            "Israel\n",
            "Canada\n"
          ],
          "name": "stdout"
        }
      ]
    },
    {
      "cell_type": "markdown",
      "metadata": {
        "id": "Rim9K3pceNXb"
      },
      "source": [
        "<p style='text-align: right;'> 2 points </p>\n"
      ]
    },
    {
      "cell_type": "code",
      "metadata": {
        "id": "rx3tbYM9eNXb",
        "colab": {
          "base_uri": "https://localhost:8080/"
        },
        "outputId": "cb327e04-7dac-4798-bef0-a1c3d377dfd5"
      },
      "source": [
        "# Using For loop, print the table of 2.\n",
        "for i in range(1,11):\n",
        "  print(2,'*',i,'=',2*i)\n"
      ],
      "execution_count": 159,
      "outputs": [
        {
          "output_type": "stream",
          "text": [
            "2 * 1 = 2\n",
            "2 * 2 = 4\n",
            "2 * 3 = 6\n",
            "2 * 4 = 8\n",
            "2 * 5 = 10\n",
            "2 * 6 = 12\n",
            "2 * 7 = 14\n",
            "2 * 8 = 16\n",
            "2 * 9 = 18\n",
            "2 * 10 = 20\n"
          ],
          "name": "stdout"
        }
      ]
    },
    {
      "cell_type": "markdown",
      "metadata": {
        "id": "TYlQTnLeeNXb"
      },
      "source": [
        "For a given list, x = [21, ‘hello,’cream’, 20,19,’village’], using for loop to iterate over the items and using - if statement print the items that are of type int"
      ]
    },
    {
      "cell_type": "code",
      "metadata": {
        "id": "zPb6Xn4PeNXb",
        "colab": {
          "base_uri": "https://localhost:8080/"
        },
        "outputId": "71bc6b74-72c8-45b0-d6ca-edec9b092d26"
      },
      "source": [
        "#code here\n",
        "x = [21, 'hello','cream', 20,19,'village']\n",
        "print([i for i in x if type(i)==int])\n"
      ],
      "execution_count": 160,
      "outputs": [
        {
          "output_type": "stream",
          "text": [
            "[21, 20, 19]\n"
          ],
          "name": "stdout"
        }
      ]
    },
    {
      "cell_type": "markdown",
      "metadata": {
        "id": "KBkudqyteNXb"
      },
      "source": [
        "Using For loop, create the following pattern. "
      ]
    },
    {
      "cell_type": "markdown",
      "metadata": {
        "id": "zp2ASyFFeNXb"
      },
      "source": [
        "<p style='text-align: right;'> 10 points </p>\n"
      ]
    },
    {
      "cell_type": "code",
      "metadata": {
        "id": "SUuCztSneNXb",
        "colab": {
          "base_uri": "https://localhost:8080/"
        },
        "outputId": "0b69c1d8-bbe7-4c54-c4dd-3e24335675b9"
      },
      "source": [
        "# print the following pattern\n",
        "\n",
        "for i in range(1,6):\n",
        "  print('* '*i)"
      ],
      "execution_count": 161,
      "outputs": [
        {
          "output_type": "stream",
          "text": [
            "* \n",
            "* * \n",
            "* * * \n",
            "* * * * \n",
            "* * * * * \n"
          ],
          "name": "stdout"
        }
      ]
    },
    {
      "cell_type": "code",
      "metadata": {
        "id": "1f5mhGWWeNXc",
        "colab": {
          "base_uri": "https://localhost:8080/"
        },
        "outputId": "65e3c8f3-252c-486e-8d4e-2c4c23d452f8"
      },
      "source": [
        "#your code here\n",
        "\n",
        "\n",
        "for i in range(1,6):\n",
        "  print('* '*i)"
      ],
      "execution_count": 162,
      "outputs": [
        {
          "output_type": "stream",
          "text": [
            "* \n",
            "* * \n",
            "* * * \n",
            "* * * * \n",
            "* * * * * \n"
          ],
          "name": "stdout"
        }
      ]
    },
    {
      "cell_type": "markdown",
      "metadata": {
        "id": "jE2Yqu-1eNXc"
      },
      "source": [
        "## While loop"
      ]
    },
    {
      "cell_type": "markdown",
      "metadata": {
        "id": "7F80GCJxeNXc"
      },
      "source": [
        "- Using while loop make a function that prints all the values between 1 to n. "
      ]
    },
    {
      "cell_type": "markdown",
      "metadata": {
        "id": "eYnlKrJeeNXc"
      },
      "source": [
        "<p style='text-align: right;'> 10 points </p>\n"
      ]
    },
    {
      "cell_type": "code",
      "metadata": {
        "id": "hmhgUZ9ReNXc"
      },
      "source": [
        "def counter(n):\n",
        "    # add your code here\n",
        "    i=1\n",
        "    while i<10:\n",
        "      print(i)\n",
        "      i+=1"
      ],
      "execution_count": 163,
      "outputs": []
    },
    {
      "cell_type": "code",
      "metadata": {
        "id": "SHWDY_QyeNXc",
        "colab": {
          "base_uri": "https://localhost:8080/"
        },
        "outputId": "d5750125-eaed-4bfc-d68d-d69a7cc8e5d3"
      },
      "source": [
        "counter(10) #this should print numbers from 1 to 10"
      ],
      "execution_count": 164,
      "outputs": [
        {
          "output_type": "stream",
          "text": [
            "1\n",
            "2\n",
            "3\n",
            "4\n",
            "5\n",
            "6\n",
            "7\n",
            "8\n",
            "9\n"
          ],
          "name": "stdout"
        }
      ]
    },
    {
      "cell_type": "markdown",
      "metadata": {
        "id": "6VhKFcUUeNXc"
      },
      "source": [
        "### Write the code for the following, what is the output obtained?\n",
        "- Set a variable flag = True, num = 5\n",
        "- Run a while loop till flag = True\n",
        "- Inside the while loop - \n",
        "    - Increment the value of num by 5\n",
        "    - If value of num is greater then 50, set flag to be False"
      ]
    },
    {
      "cell_type": "code",
      "metadata": {
        "id": "tbaduSb4eNXc",
        "colab": {
          "base_uri": "https://localhost:8080/"
        },
        "outputId": "0b339965-db17-48d6-8b28-00a6abbfb4c0"
      },
      "source": [
        "# your code here\n",
        "\n",
        "flag=True\n",
        "num=5\n",
        "while flag:\n",
        "  if num <=50:\n",
        "    print(num)\n",
        "  else:\n",
        "    flag= False\n",
        "  num+=5\n",
        "\n"
      ],
      "execution_count": 165,
      "outputs": [
        {
          "output_type": "stream",
          "text": [
            "5\n",
            "10\n",
            "15\n",
            "20\n",
            "25\n",
            "30\n",
            "35\n",
            "40\n",
            "45\n",
            "50\n"
          ],
          "name": "stdout"
        }
      ]
    },
    {
      "cell_type": "markdown",
      "metadata": {
        "id": "ceWwq4PgeNXd"
      },
      "source": [
        "----------------------------------------------------------------------"
      ]
    },
    {
      "cell_type": "markdown",
      "metadata": {
        "id": "52T19XOpeNXd"
      },
      "source": [
        "# Smile, you completed the first milestone :)!! "
      ]
    },
    {
      "cell_type": "markdown",
      "metadata": {
        "id": "CG6h_jBBkqhy"
      },
      "source": [
        "# FeedBack\n",
        "We hope you’ve enjoyed this course so far. We’re committed to help you use \"AI for All\" course to its full potential, so that you have a great learning experience. And that’s why we need your help in form of a feedback here.\n",
        "\n",
        "**Please fill this feedback form**\n",
        "https://docs.google.com/forms/d/e/1FAIpQLSfjBmH0yJSSA34IhSVx4h2eDMgOAeG4Dk-yHid__NMTk3Hq5g/viewform"
      ]
    },
    {
      "cell_type": "code",
      "metadata": {
        "id": "iq9qOncDhzoF"
      },
      "source": [
        ""
      ],
      "execution_count": null,
      "outputs": []
    },
    {
      "cell_type": "code",
      "metadata": {
        "id": "R2d8hZV61lZ1"
      },
      "source": [
        ""
      ],
      "execution_count": null,
      "outputs": []
    }
  ]
}