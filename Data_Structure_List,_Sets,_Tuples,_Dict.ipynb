{
  "nbformat": 4,
  "nbformat_minor": 5,
  "metadata": {
    "kernelspec": {
      "display_name": "Python 3",
      "language": "python",
      "name": "python3"
    },
    "language_info": {
      "codemirror_mode": {
        "name": "ipython",
        "version": 3
      },
      "file_extension": ".py",
      "mimetype": "text/x-python",
      "name": "python",
      "nbconvert_exporter": "python",
      "pygments_lexer": "ipython3",
      "version": "3.7.4"
    },
    "colab": {
      "name": "Data Structure- List, Sets, Tuples, Dict.ipynb",
      "provenance": [],
      "collapsed_sections": [],
      "include_colab_link": true
    }
  },
  "cells": [
    {
      "cell_type": "markdown",
      "metadata": {
        "id": "view-in-github",
        "colab_type": "text"
      },
      "source": [
        "<a href=\"https://colab.research.google.com/github/saimaneesh/python_DS/blob/master/Data_Structure_List%2C_Sets%2C_Tuples%2C_Dict.ipynb\" target=\"_parent\"><img src=\"https://colab.research.google.com/assets/colab-badge.svg\" alt=\"Open In Colab\"/></a>"
      ]
    },
    {
      "cell_type": "markdown",
      "metadata": {
        "id": "kxguq804tTy6"
      },
      "source": [
        "# <center> <u>Data Structures <u> </center>"
      ],
      "id": "kxguq804tTy6"
    },
    {
      "cell_type": "markdown",
      "metadata": {
        "id": "1l8BxlcvtTzG"
      },
      "source": [
        "## 1. Lists\n",
        "\n",
        "Reference:- https://www.youtube.com/watch?v=ohCDWZgNIU0\n"
      ],
      "id": "1l8BxlcvtTzG"
    },
    {
      "cell_type": "markdown",
      "metadata": {
        "id": "nqMbTTeitTzI"
      },
      "source": [
        "<p style='text-align: right;'> 1+1+1 = 3 points</p>\n"
      ],
      "id": "nqMbTTeitTzI"
    },
    {
      "cell_type": "markdown",
      "metadata": {
        "id": "X9lV0YEStTzI"
      },
      "source": [
        "#### 1.1 Create an empty list with the name ‘a’, print the value of a and type(a).\n"
      ],
      "id": "X9lV0YEStTzI"
    },
    {
      "cell_type": "code",
      "metadata": {
        "id": "ArcpMID8tTzJ"
      },
      "source": [
        "# create empty list, name it 'a'\n",
        "a=[]\n"
      ],
      "id": "ArcpMID8tTzJ",
      "execution_count": 10,
      "outputs": []
    },
    {
      "cell_type": "code",
      "metadata": {
        "colab": {
          "base_uri": "https://localhost:8080/"
        },
        "id": "jTO5T7tVtTzK",
        "outputId": "79ee705e-fa93-49f2-a3ee-ca7abcf5588e"
      },
      "source": [
        "# print the value of a\n",
        "print(a)\n"
      ],
      "id": "jTO5T7tVtTzK",
      "execution_count": 2,
      "outputs": [
        {
          "output_type": "stream",
          "text": [
            "[]\n"
          ],
          "name": "stdout"
        }
      ]
    },
    {
      "cell_type": "code",
      "metadata": {
        "colab": {
          "base_uri": "https://localhost:8080/"
        },
        "id": "gb_3BboXtTzM",
        "outputId": "dd9539eb-ea5c-43de-90e0-8d4adce8c52c"
      },
      "source": [
        "# print the type of a\n",
        "\n",
        "print(type(a))"
      ],
      "id": "gb_3BboXtTzM",
      "execution_count": 11,
      "outputs": [
        {
          "output_type": "stream",
          "text": [
            "<class 'list'>\n"
          ],
          "name": "stdout"
        }
      ]
    },
    {
      "cell_type": "markdown",
      "metadata": {
        "id": "lnkc73AitTzP"
      },
      "source": [
        "#### 1.2.Create a list , languages = ['R','Python', 'SAS', 'Scala', 42], "
      ],
      "id": "lnkc73AitTzP"
    },
    {
      "cell_type": "markdown",
      "metadata": {
        "id": "De6zgyq5tTzQ"
      },
      "source": [
        "<p style='text-align: right;'> 1+1+1+1+1+1+1+1 = 7 points</p>\n"
      ],
      "id": "De6zgyq5tTzQ"
    },
    {
      "cell_type": "code",
      "metadata": {
        "id": "DHueGCfqtTzQ"
      },
      "source": [
        "#code here\n",
        "languages=['R','Python','SAS','Scala',42]"
      ],
      "id": "DHueGCfqtTzQ",
      "execution_count": 4,
      "outputs": []
    },
    {
      "cell_type": "markdown",
      "metadata": {
        "id": "uFpXX8_AtTzR"
      },
      "source": [
        "Print the number of elements in the list"
      ],
      "id": "uFpXX8_AtTzR"
    },
    {
      "cell_type": "code",
      "metadata": {
        "colab": {
          "base_uri": "https://localhost:8080/"
        },
        "id": "C5knN5q8tTzS",
        "outputId": "d185a46f-51b4-431c-82ef-1b26e57b09a5"
      },
      "source": [
        "#code here\n",
        "print(len(languages))"
      ],
      "id": "C5knN5q8tTzS",
      "execution_count": 5,
      "outputs": [
        {
          "output_type": "stream",
          "text": [
            "5\n"
          ],
          "name": "stdout"
        }
      ]
    },
    {
      "cell_type": "markdown",
      "metadata": {
        "id": "o0uUFZletTzS"
      },
      "source": [
        "Using for loop iterate and print all the elements in the list"
      ],
      "id": "o0uUFZletTzS"
    },
    {
      "cell_type": "code",
      "metadata": {
        "colab": {
          "base_uri": "https://localhost:8080/"
        },
        "id": "HUklq3nStTzT",
        "outputId": "ed8a6383-04fe-4849-bbd3-d166ca20803b"
      },
      "source": [
        "#code here\n",
        "\n",
        "for i in languages:\n",
        "  print(i)"
      ],
      "id": "HUklq3nStTzT",
      "execution_count": 6,
      "outputs": [
        {
          "output_type": "stream",
          "text": [
            "R\n",
            "Python\n",
            "SAS\n",
            "Scala\n",
            "42\n"
          ],
          "name": "stdout"
        }
      ]
    },
    {
      "cell_type": "markdown",
      "metadata": {
        "id": "QX6Tm_YUtTzU"
      },
      "source": [
        "Select the second item, 'Python' and store it in a new variable named 'temp'"
      ],
      "id": "QX6Tm_YUtTzU"
    },
    {
      "cell_type": "code",
      "metadata": {
        "id": "NSjtBgF0tTzU"
      },
      "source": [
        "#code here\n",
        "temp=languages[1]"
      ],
      "id": "NSjtBgF0tTzU",
      "execution_count": 8,
      "outputs": []
    },
    {
      "cell_type": "markdown",
      "metadata": {
        "id": "7l1hWgo_tTzU"
      },
      "source": [
        "Print the value of temp and type(temp)"
      ],
      "id": "7l1hWgo_tTzU"
    },
    {
      "cell_type": "code",
      "metadata": {
        "colab": {
          "base_uri": "https://localhost:8080/"
        },
        "id": "0089Q5IEtTzV",
        "outputId": "777f540b-5dda-4bfa-f2f5-d836627b8035"
      },
      "source": [
        "#code here\n",
        "print(temp)\n",
        "print(type(temp))\n",
        "\n"
      ],
      "id": "0089Q5IEtTzV",
      "execution_count": 9,
      "outputs": [
        {
          "output_type": "stream",
          "text": [
            "Python\n",
            "<class 'str'>\n"
          ],
          "name": "stdout"
        }
      ]
    },
    {
      "cell_type": "markdown",
      "metadata": {
        "id": "xccHZY01tTzW"
      },
      "source": [
        "Using list comprehension, print the last two elemets of list"
      ],
      "id": "xccHZY01tTzW"
    },
    {
      "cell_type": "code",
      "metadata": {
        "colab": {
          "base_uri": "https://localhost:8080/"
        },
        "id": "fYHRB-J-tTzW",
        "outputId": "bbfb3841-be00-4e22-a18d-c8c1dbd31f40"
      },
      "source": [
        "# code here\n",
        "print([i for i in languages[3:5]])\n"
      ],
      "id": "fYHRB-J-tTzW",
      "execution_count": 13,
      "outputs": [
        {
          "output_type": "stream",
          "text": [
            "['Scala', 42]\n"
          ],
          "name": "stdout"
        }
      ]
    },
    {
      "cell_type": "markdown",
      "metadata": {
        "id": "RY67AJhntTzX"
      },
      "source": [
        "Append the element 'Java' in the list"
      ],
      "id": "RY67AJhntTzX"
    },
    {
      "cell_type": "code",
      "metadata": {
        "id": "fRNOfZJjtTzX"
      },
      "source": [
        "#code here\n",
        "languages.append('Java')"
      ],
      "id": "fRNOfZJjtTzX",
      "execution_count": 19,
      "outputs": []
    },
    {
      "cell_type": "markdown",
      "metadata": {
        "id": "TBU5Ua4BtTzX"
      },
      "source": [
        "Remove the element 42 from the list and print the list"
      ],
      "id": "TBU5Ua4BtTzX"
    },
    {
      "cell_type": "code",
      "metadata": {
        "colab": {
          "base_uri": "https://localhost:8080/"
        },
        "id": "W_Le1AUntTzY",
        "outputId": "acdbf3db-8a93-45e8-c912-59c3cd0e137b"
      },
      "source": [
        "#code here\n",
        "languages.remove(42)\n",
        "print(languages)"
      ],
      "id": "W_Le1AUntTzY",
      "execution_count": 22,
      "outputs": [
        {
          "output_type": "stream",
          "text": [
            "['R', 'Python', 'SAS', 'Scala', 'Java']\n"
          ],
          "name": "stdout"
        }
      ]
    },
    {
      "cell_type": "markdown",
      "metadata": {
        "id": "sAmAoG3DtTzY"
      },
      "source": [
        "#### 1.3. Create a list, colors = [‘Red’, ‘Blue’, ‘White’]"
      ],
      "id": "sAmAoG3DtTzY"
    },
    {
      "cell_type": "markdown",
      "metadata": {
        "id": "jN8QzVuUtTzZ"
      },
      "source": [
        "<p style='text-align: right;'> 1+1+1+1+1+1+1 = 6 points</p>\n"
      ],
      "id": "jN8QzVuUtTzZ"
    },
    {
      "cell_type": "code",
      "metadata": {
        "id": "2Pp9vD3MtTzZ"
      },
      "source": [
        "#code here\n",
        "colors=['Red','Blue','White']\n"
      ],
      "id": "2Pp9vD3MtTzZ",
      "execution_count": 23,
      "outputs": []
    },
    {
      "cell_type": "markdown",
      "metadata": {
        "id": "H9TqOIxqtTza"
      },
      "source": [
        "Append the element 'Black' to colors"
      ],
      "id": "H9TqOIxqtTza"
    },
    {
      "cell_type": "code",
      "metadata": {
        "id": "EzsLn4yktTza"
      },
      "source": [
        "#code here\n",
        "colors.append('Black')"
      ],
      "id": "EzsLn4yktTza",
      "execution_count": 24,
      "outputs": []
    },
    {
      "cell_type": "markdown",
      "metadata": {
        "id": "-a7OMi0FtTzb"
      },
      "source": [
        "Append the color 'Orange' to second position (index=1) and print the list"
      ],
      "id": "-a7OMi0FtTzb"
    },
    {
      "cell_type": "code",
      "metadata": {
        "id": "1mmukh5ntTzb"
      },
      "source": [
        "# code here\n",
        "colors.insert(1,'Orange')"
      ],
      "id": "1mmukh5ntTzb",
      "execution_count": 25,
      "outputs": []
    },
    {
      "cell_type": "markdown",
      "metadata": {
        "id": "25fjoVe9tTzb"
      },
      "source": [
        "Print the list\n"
      ],
      "id": "25fjoVe9tTzb"
    },
    {
      "cell_type": "code",
      "metadata": {
        "colab": {
          "base_uri": "https://localhost:8080/"
        },
        "id": "7_vWjes0tTzc",
        "outputId": "eb103dfd-7aa7-4288-e3a1-2af818b1cc14"
      },
      "source": [
        "# code here\n",
        "print(colors)"
      ],
      "id": "7_vWjes0tTzc",
      "execution_count": 26,
      "outputs": [
        {
          "output_type": "stream",
          "text": [
            "['Red', 'Orange', 'Blue', 'White', 'Black']\n"
          ],
          "name": "stdout"
        }
      ]
    },
    {
      "cell_type": "markdown",
      "metadata": {
        "id": "pW0K9Qo4tTzc"
      },
      "source": [
        "Create another list, colors2 = [‘Grey’, ‘Sky Blue’]"
      ],
      "id": "pW0K9Qo4tTzc"
    },
    {
      "cell_type": "code",
      "metadata": {
        "id": "hyPN5KtJtTzd"
      },
      "source": [
        "# code here\n",
        "colors2=['Grey','Sky Blue']"
      ],
      "id": "hyPN5KtJtTzd",
      "execution_count": 27,
      "outputs": []
    },
    {
      "cell_type": "markdown",
      "metadata": {
        "id": "wHe4SWBEtTzd"
      },
      "source": [
        "Add the elements of colors2 to colors using extend function in the list"
      ],
      "id": "wHe4SWBEtTzd"
    },
    {
      "cell_type": "code",
      "metadata": {
        "id": "5-AjWrkFtTze"
      },
      "source": [
        "#code here\n",
        "colors.extend(colors2)"
      ],
      "id": "5-AjWrkFtTze",
      "execution_count": 28,
      "outputs": []
    },
    {
      "cell_type": "markdown",
      "metadata": {
        "id": "63YykcO9tTze"
      },
      "source": [
        "Print len of colors and its elements"
      ],
      "id": "63YykcO9tTze"
    },
    {
      "cell_type": "code",
      "metadata": {
        "colab": {
          "base_uri": "https://localhost:8080/"
        },
        "id": "jJ9rkURLtTze",
        "outputId": "4a0c1e44-6cc5-4de6-adc7-4d433568c8b2"
      },
      "source": [
        "# code here\n",
        "print(len(colors))\n",
        "print(colors)\n",
        "\n"
      ],
      "id": "jJ9rkURLtTze",
      "execution_count": 29,
      "outputs": [
        {
          "output_type": "stream",
          "text": [
            "7\n",
            "['Red', 'Orange', 'Blue', 'White', 'Black', 'Grey', 'Sky Blue']\n"
          ],
          "name": "stdout"
        }
      ]
    },
    {
      "cell_type": "markdown",
      "metadata": {
        "id": "9iiXZjm7tTzf"
      },
      "source": [
        "Sort the list and print it."
      ],
      "id": "9iiXZjm7tTzf"
    },
    {
      "cell_type": "code",
      "metadata": {
        "colab": {
          "base_uri": "https://localhost:8080/"
        },
        "id": "Ks_ndFbStTzf",
        "outputId": "47d97d97-f30e-4675-a518-18b5c8a2093e"
      },
      "source": [
        "# code here\n",
        "colors.sort()\n",
        "print(colors)\n",
        "\n"
      ],
      "id": "Ks_ndFbStTzf",
      "execution_count": 30,
      "outputs": [
        {
          "output_type": "stream",
          "text": [
            "['Black', 'Blue', 'Grey', 'Orange', 'Red', 'Sky Blue', 'White']\n"
          ],
          "name": "stdout"
        }
      ]
    },
    {
      "cell_type": "markdown",
      "metadata": {
        "id": "DU1PfG3LtTzg"
      },
      "source": [
        "#### 1.4. Create a string, sent = ‘Coronavirus Caused Lockdowns Around The World.”"
      ],
      "id": "DU1PfG3LtTzg"
    },
    {
      "cell_type": "markdown",
      "metadata": {
        "id": "tOaiWqietTzg"
      },
      "source": [
        "<p style='text-align: right;'> 7 points</p>\n"
      ],
      "id": "tOaiWqietTzg"
    },
    {
      "cell_type": "code",
      "metadata": {
        "id": "XUhYHEW1tTzh"
      },
      "source": [
        "# code here\n",
        "sent='Coronavirus Caused Lockdowns Around The World'"
      ],
      "id": "XUhYHEW1tTzh",
      "execution_count": 31,
      "outputs": []
    },
    {
      "cell_type": "markdown",
      "metadata": {
        "id": "PW18OBJNtTzh"
      },
      "source": [
        "Use split function to convert the string into a list of words and save it in variable words and print the same"
      ],
      "id": "PW18OBJNtTzh"
    },
    {
      "cell_type": "code",
      "metadata": {
        "colab": {
          "base_uri": "https://localhost:8080/"
        },
        "id": "bDECEcNAtTzh",
        "outputId": "bfc07cb9-7545-43b7-dfdf-c4f5e6151f6d"
      },
      "source": [
        "# code here\n",
        "s=sent.split()\n",
        "print(s)"
      ],
      "id": "bDECEcNAtTzh",
      "execution_count": 33,
      "outputs": [
        {
          "output_type": "stream",
          "text": [
            "['Coronavirus', 'Caused', 'Lockdowns', 'Around', 'The', 'World']\n"
          ],
          "name": "stdout"
        }
      ]
    },
    {
      "cell_type": "markdown",
      "metadata": {
        "id": "Gle22mSytTzi"
      },
      "source": [
        "Using list comprehensions, convert each word in the list to lower case and store it in variable words_lower. \n",
        "Print words_lower"
      ],
      "id": "Gle22mSytTzi"
    },
    {
      "cell_type": "code",
      "metadata": {
        "colab": {
          "base_uri": "https://localhost:8080/"
        },
        "id": "Gnpy0nbGtTzi",
        "outputId": "9531c6e2-0d90-4d25-c8ae-268bc812bf59"
      },
      "source": [
        "# code here\n",
        "words_lower=[i.lower() for i in s]\n",
        "print(words_lower)"
      ],
      "id": "Gnpy0nbGtTzi",
      "execution_count": 35,
      "outputs": [
        {
          "output_type": "stream",
          "text": [
            "['coronavirus', 'caused', 'lockdowns', 'around', 'the', 'world']\n"
          ],
          "name": "stdout"
        }
      ]
    },
    {
      "cell_type": "markdown",
      "metadata": {
        "id": "0P6aQZFwtTzj"
      },
      "source": [
        "Check whether ‘country’ is in the list"
      ],
      "id": "0P6aQZFwtTzj"
    },
    {
      "cell_type": "code",
      "metadata": {
        "colab": {
          "base_uri": "https://localhost:8080/"
        },
        "id": "3K0T07OQtTzj",
        "outputId": "87971f02-6b24-4d95-8ae7-cb17429fc968"
      },
      "source": [
        "# code here\n",
        "'country' in s"
      ],
      "id": "3K0T07OQtTzj",
      "execution_count": 37,
      "outputs": [
        {
          "output_type": "execute_result",
          "data": {
            "text/plain": [
              "False"
            ]
          },
          "metadata": {
            "tags": []
          },
          "execution_count": 37
        }
      ]
    },
    {
      "cell_type": "markdown",
      "metadata": {
        "id": "kAfzxZE0tTzk"
      },
      "source": [
        "Remove the element ‘the’ from the list and print the list."
      ],
      "id": "kAfzxZE0tTzk"
    },
    {
      "cell_type": "code",
      "metadata": {
        "colab": {
          "base_uri": "https://localhost:8080/"
        },
        "id": "M1BAUkNAtTzk",
        "outputId": "d00c1377-80fd-4244-f5ae-1de85c2e5ccf"
      },
      "source": [
        "# code here\n",
        "words_lower.remove('the')\n",
        "print(words_lower)"
      ],
      "id": "M1BAUkNAtTzk",
      "execution_count": 39,
      "outputs": [
        {
          "output_type": "stream",
          "text": [
            "['coronavirus', 'caused', 'lockdowns', 'around', 'world']\n"
          ],
          "name": "stdout"
        }
      ]
    },
    {
      "cell_type": "markdown",
      "metadata": {
        "id": "FcpyNhxptTzl"
      },
      "source": [
        "Select the first 4 words from the list words_lower using slicing and store them in a new variable x4"
      ],
      "id": "FcpyNhxptTzl"
    },
    {
      "cell_type": "code",
      "metadata": {
        "id": "Thaue9NRtTzl"
      },
      "source": [
        "#code here\n",
        "x4=words_lower[:4]"
      ],
      "id": "Thaue9NRtTzl",
      "execution_count": 40,
      "outputs": []
    },
    {
      "cell_type": "code",
      "metadata": {
        "colab": {
          "base_uri": "https://localhost:8080/"
        },
        "id": "mbhPvXiUtTzm",
        "outputId": "f0f353bd-6e5f-458d-a375-dfffc6ebdc26"
      },
      "source": [
        "# print x4\n",
        "print(x4)"
      ],
      "id": "mbhPvXiUtTzm",
      "execution_count": 41,
      "outputs": [
        {
          "output_type": "stream",
          "text": [
            "['coronavirus', 'caused', 'lockdowns', 'around']\n"
          ],
          "name": "stdout"
        }
      ]
    },
    {
      "cell_type": "markdown",
      "metadata": {
        "id": "YfyJUG9-tTzo"
      },
      "source": [
        "Convert the list of elements to single string using join function and print it"
      ],
      "id": "YfyJUG9-tTzo"
    },
    {
      "cell_type": "code",
      "metadata": {
        "colab": {
          "base_uri": "https://localhost:8080/"
        },
        "id": "EfYcB3ETtTzp",
        "outputId": "f724188f-e9e7-461b-d2ae-29edf10c16c9"
      },
      "source": [
        "#code here\n",
        "print(' '.join(x4))"
      ],
      "id": "EfYcB3ETtTzp",
      "execution_count": 42,
      "outputs": [
        {
          "output_type": "stream",
          "text": [
            "coronavirus caused lockdowns around\n"
          ],
          "name": "stdout"
        }
      ]
    },
    {
      "cell_type": "markdown",
      "metadata": {
        "id": "seWE-haYtTzp"
      },
      "source": [
        "## 2. Sets\n",
        "\n",
        "Reference:-https://www.youtube.com/watch?v=sBvaPopWOmQ"
      ],
      "id": "seWE-haYtTzp"
    },
    {
      "cell_type": "markdown",
      "metadata": {
        "id": "BJT6rVIztTzq"
      },
      "source": [
        "#### 2.1. Create stud_grades = ['A','A','B','C','C','F']"
      ],
      "id": "BJT6rVIztTzq"
    },
    {
      "cell_type": "markdown",
      "metadata": {
        "id": "3WwNaDrItTzq"
      },
      "source": [
        "<p style='text-align: right;'> 7 points</p>\n"
      ],
      "id": "3WwNaDrItTzq"
    },
    {
      "cell_type": "code",
      "metadata": {
        "id": "EBk3rkGdtTzr"
      },
      "source": [
        "#code here\n",
        "stud_grades=['A','A','B','C','C','F']\n"
      ],
      "id": "EBk3rkGdtTzr",
      "execution_count": 43,
      "outputs": []
    },
    {
      "cell_type": "markdown",
      "metadata": {
        "id": "Pw5lSFR3tTzr"
      },
      "source": [
        "Print the len of stud_grades"
      ],
      "id": "Pw5lSFR3tTzr"
    },
    {
      "cell_type": "code",
      "metadata": {
        "colab": {
          "base_uri": "https://localhost:8080/"
        },
        "id": "vl93hlKHtTzr",
        "outputId": "0025b8de-1128-460e-c33d-bee6a5e7fcd0"
      },
      "source": [
        "#code here\n",
        "print(len(stud_grades))"
      ],
      "id": "vl93hlKHtTzr",
      "execution_count": 44,
      "outputs": [
        {
          "output_type": "stream",
          "text": [
            "6\n"
          ],
          "name": "stdout"
        }
      ]
    },
    {
      "cell_type": "markdown",
      "metadata": {
        "id": "wNirzDtXtTzs"
      },
      "source": [
        "Create a new variable, stud_grades_set = set(stud_grades)"
      ],
      "id": "wNirzDtXtTzs"
    },
    {
      "cell_type": "code",
      "metadata": {
        "id": "1JjXaTywtTzs"
      },
      "source": [
        "#code here\n",
        "stud_grades_set=set(stud_grades)"
      ],
      "id": "1JjXaTywtTzs",
      "execution_count": 45,
      "outputs": []
    },
    {
      "cell_type": "markdown",
      "metadata": {
        "id": "Px7KcaWztTzt"
      },
      "source": [
        "Print stud_grades_set. "
      ],
      "id": "Px7KcaWztTzt"
    },
    {
      "cell_type": "code",
      "metadata": {
        "colab": {
          "base_uri": "https://localhost:8080/"
        },
        "id": "zZkRAR2KtTzt",
        "outputId": "7a9166b9-8b64-4cce-ce5a-5aefb23bff47"
      },
      "source": [
        "#code here\n",
        "print(stud_grades_set)\n"
      ],
      "id": "zZkRAR2KtTzt",
      "execution_count": 51,
      "outputs": [
        {
          "output_type": "stream",
          "text": [
            "{'C', 'F', 'B', 'A'}\n"
          ],
          "name": "stdout"
        }
      ]
    },
    {
      "cell_type": "markdown",
      "metadata": {
        "id": "CHI-TgOytTzu"
      },
      "source": [
        "print the type of stud_grades and stud_grades_set and print their corresponding elements. Try to understand the difference between them."
      ],
      "id": "CHI-TgOytTzu"
    },
    {
      "cell_type": "code",
      "metadata": {
        "colab": {
          "base_uri": "https://localhost:8080/"
        },
        "id": "eWpuqUC9tTzu",
        "outputId": "f2a8e82f-17f0-4120-c06b-9b44c7308066"
      },
      "source": [
        "#code here\n",
        "print(type(stud_grades),stud_grades)\n",
        "print(type(stud_grades_set),stud_grades_set)\n"
      ],
      "id": "eWpuqUC9tTzu",
      "execution_count": 53,
      "outputs": [
        {
          "output_type": "stream",
          "text": [
            "<class 'list'> ['A', 'A', 'B', 'C', 'C', 'F']\n",
            "<class 'set'> {'C', 'F', 'B', 'A'}\n"
          ],
          "name": "stdout"
        }
      ]
    },
    {
      "cell_type": "markdown",
      "metadata": {
        "id": "tStAVCbLtTzv"
      },
      "source": [
        "Add a new element ‘G’ to stud_grades_set"
      ],
      "id": "tStAVCbLtTzv"
    },
    {
      "cell_type": "code",
      "metadata": {
        "id": "4mN1smPktTzv"
      },
      "source": [
        "#code here\n",
        "stud_grades_set.add('G')\n",
        "\n"
      ],
      "id": "4mN1smPktTzv",
      "execution_count": 54,
      "outputs": []
    },
    {
      "cell_type": "markdown",
      "metadata": {
        "id": "4a3WubHDtTzv"
      },
      "source": [
        "Add element 'F' to stud_grades_set. and print it."
      ],
      "id": "4a3WubHDtTzv"
    },
    {
      "cell_type": "code",
      "metadata": {
        "colab": {
          "base_uri": "https://localhost:8080/"
        },
        "id": "W7IpssR-tTzw",
        "outputId": "974a8ae5-3fd9-4de8-97e8-ba5fb5f256d7"
      },
      "source": [
        "#code here\n",
        "stud_grades_set.add('F')\n",
        "print(stud_grades_set)\n"
      ],
      "id": "W7IpssR-tTzw",
      "execution_count": 56,
      "outputs": [
        {
          "output_type": "stream",
          "text": [
            "{'B', 'G', 'F', 'A', 'C'}\n"
          ],
          "name": "stdout"
        }
      ]
    },
    {
      "cell_type": "markdown",
      "metadata": {
        "id": "aq4Cu5jCtTzw"
      },
      "source": [
        "!!Did you notice? set doesn't add an element if it's already present in it, unlike lists."
      ],
      "id": "aq4Cu5jCtTzw"
    },
    {
      "cell_type": "markdown",
      "metadata": {
        "id": "sFeh1T5jtTzx"
      },
      "source": [
        "Remove ‘F’ from stud_grades_set"
      ],
      "id": "sFeh1T5jtTzx"
    },
    {
      "cell_type": "code",
      "metadata": {
        "id": "Sx3SDwcKtTzx"
      },
      "source": [
        "#code here\n",
        "stud_grades_set.remove('F')\n"
      ],
      "id": "Sx3SDwcKtTzx",
      "execution_count": 57,
      "outputs": []
    },
    {
      "cell_type": "markdown",
      "metadata": {
        "id": "V9bztO_7tTzx"
      },
      "source": [
        "Print the elements and the length of stud_grades_set"
      ],
      "id": "V9bztO_7tTzx"
    },
    {
      "cell_type": "code",
      "metadata": {
        "colab": {
          "base_uri": "https://localhost:8080/"
        },
        "id": "bdJiI0wytTzy",
        "outputId": "06bcc216-e3fb-43ae-f360-a778b74a696e"
      },
      "source": [
        "#code here\n",
        "print(stud_grades_set)\n",
        "print(len(stud_grades_set))\n"
      ],
      "id": "bdJiI0wytTzy",
      "execution_count": 59,
      "outputs": [
        {
          "output_type": "stream",
          "text": [
            "{'B', 'G', 'A', 'C'}\n",
            "4\n"
          ],
          "name": "stdout"
        }
      ]
    },
    {
      "cell_type": "markdown",
      "metadata": {
        "id": "yP92SsdItTzy"
      },
      "source": [
        "#### 2.2. Create colors = [‘red’,’blue’,’orange’], and fruits = [‘orange’,’grapes’,’apples’] "
      ],
      "id": "yP92SsdItTzy"
    },
    {
      "cell_type": "markdown",
      "metadata": {
        "id": "TeQS1oPhtTzz"
      },
      "source": [
        "<p style='text-align: right;'> 6 points</p>\n"
      ],
      "id": "TeQS1oPhtTzz"
    },
    {
      "cell_type": "code",
      "metadata": {
        "id": "7dGzS5RFtTzz"
      },
      "source": [
        "#code here\n",
        "colors=['red','blue','orange']\n",
        "fruits=['orange','grapes','apples']\n",
        "\n"
      ],
      "id": "7dGzS5RFtTzz",
      "execution_count": 60,
      "outputs": []
    },
    {
      "cell_type": "markdown",
      "metadata": {
        "id": "FonSQLCCtTz0"
      },
      "source": [
        "Print color and fruits"
      ],
      "id": "FonSQLCCtTz0"
    },
    {
      "cell_type": "code",
      "metadata": {
        "colab": {
          "base_uri": "https://localhost:8080/"
        },
        "id": "jzJZi_EKtTz0",
        "outputId": "7cc3f577-5883-4d43-bfff-91e9c76bb992"
      },
      "source": [
        "#code here\n",
        "print(colors)\n",
        "print(fruits)\n"
      ],
      "id": "jzJZi_EKtTz0",
      "execution_count": 61,
      "outputs": [
        {
          "output_type": "stream",
          "text": [
            "['red', 'blue', 'orange']\n",
            "['orange', 'grapes', 'apples']\n"
          ],
          "name": "stdout"
        }
      ]
    },
    {
      "cell_type": "markdown",
      "metadata": {
        "id": "4orR--8ktTz0"
      },
      "source": [
        "Create colors_set, and fruits_set. (using set() ) and print them"
      ],
      "id": "4orR--8ktTz0"
    },
    {
      "cell_type": "code",
      "metadata": {
        "colab": {
          "base_uri": "https://localhost:8080/"
        },
        "id": "KOwXg2-ltTz1",
        "outputId": "a2b796c9-4355-4edd-f04a-16ac7f7bb655"
      },
      "source": [
        "#code here\n",
        "colors_set=set(colors)\n",
        "fruits_set=set(fruits)\n",
        "print(colors_set)\n",
        "print(fruits_set)"
      ],
      "id": "KOwXg2-ltTz1",
      "execution_count": 62,
      "outputs": [
        {
          "output_type": "stream",
          "text": [
            "{'blue', 'orange', 'red'}\n",
            "{'grapes', 'apples', 'orange'}\n"
          ],
          "name": "stdout"
        }
      ]
    },
    {
      "cell_type": "markdown",
      "metadata": {
        "id": "_VvVdn7_tTz1"
      },
      "source": [
        "Find the union of both the sets."
      ],
      "id": "_VvVdn7_tTz1"
    },
    {
      "cell_type": "code",
      "metadata": {
        "colab": {
          "base_uri": "https://localhost:8080/"
        },
        "id": "091gQ2rEtTz2",
        "outputId": "ac9d5f05-9b13-40f3-d14a-c57231809467"
      },
      "source": [
        "#code here\n",
        "print(colors_set.union(fruits_set))\n"
      ],
      "id": "091gQ2rEtTz2",
      "execution_count": 65,
      "outputs": [
        {
          "output_type": "stream",
          "text": [
            "{'grapes', 'blue', 'apples', 'orange', 'red'}\n"
          ],
          "name": "stdout"
        }
      ]
    },
    {
      "cell_type": "markdown",
      "metadata": {
        "id": "CsbIkbIKtTz2"
      },
      "source": [
        "Find the intersection of both the sets "
      ],
      "id": "CsbIkbIKtTz2"
    },
    {
      "cell_type": "code",
      "metadata": {
        "colab": {
          "base_uri": "https://localhost:8080/"
        },
        "id": "SCzzjqs6tTz3",
        "outputId": "f6ac6ed4-93de-477a-cecc-2630a728265c"
      },
      "source": [
        "#code here\n",
        "print(colors_set.intersection(fruits_set))\n"
      ],
      "id": "SCzzjqs6tTz3",
      "execution_count": 66,
      "outputs": [
        {
          "output_type": "stream",
          "text": [
            "{'orange'}\n"
          ],
          "name": "stdout"
        }
      ]
    },
    {
      "cell_type": "markdown",
      "metadata": {
        "id": "kBcUGgC9tTz3"
      },
      "source": [
        "Find the elements which are Fruits but not colors (using set.difference() )"
      ],
      "id": "kBcUGgC9tTz3"
    },
    {
      "cell_type": "code",
      "metadata": {
        "colab": {
          "base_uri": "https://localhost:8080/"
        },
        "id": "Ck9z4z96tTz4",
        "outputId": "a0e2ee40-48db-483f-f72e-445bd63e7b71"
      },
      "source": [
        "#code here\n",
        "print(fruits_set.difference(colors_set))\n"
      ],
      "id": "Ck9z4z96tTz4",
      "execution_count": 68,
      "outputs": [
        {
          "output_type": "stream",
          "text": [
            "{'grapes', 'apples'}\n"
          ],
          "name": "stdout"
        }
      ]
    },
    {
      "cell_type": "markdown",
      "metadata": {
        "id": "kEqlLEBPtTz4"
      },
      "source": [
        "## 3. TUPLES\n",
        "\n",
        "Reference:-https://www.youtube.com/watch?v=NI26dqhs2Rk"
      ],
      "id": "kEqlLEBPtTz4"
    },
    {
      "cell_type": "markdown",
      "metadata": {
        "id": "hx_VLQ7btTz5"
      },
      "source": [
        "#### 3.1 . Create temp = [17, ’Virat’, 50.0]"
      ],
      "id": "hx_VLQ7btTz5"
    },
    {
      "cell_type": "markdown",
      "metadata": {
        "id": "LPvry0lOtTz5"
      },
      "source": [
        "<p style='text-align: right;'> 7 points</p>\n"
      ],
      "id": "LPvry0lOtTz5"
    },
    {
      "cell_type": "code",
      "metadata": {
        "id": "FH0JUOAxtTz6"
      },
      "source": [
        "#code here\n",
        "\n",
        "temp=[17,'Virat',50.0]\n"
      ],
      "id": "FH0JUOAxtTz6",
      "execution_count": 69,
      "outputs": []
    },
    {
      "cell_type": "markdown",
      "metadata": {
        "id": "xLKHTNaftTz6"
      },
      "source": [
        "Iterate through temp and print all the items in temp"
      ],
      "id": "xLKHTNaftTz6"
    },
    {
      "cell_type": "code",
      "metadata": {
        "colab": {
          "base_uri": "https://localhost:8080/"
        },
        "id": "MWnV5DTMtTz7",
        "outputId": "6573bd65-eb35-46d0-a5dc-d9c767a6a074"
      },
      "source": [
        "for i in temp:\n",
        "  print(i) #code here\n",
        "\n",
        "\n"
      ],
      "id": "MWnV5DTMtTz7",
      "execution_count": 73,
      "outputs": [
        {
          "output_type": "stream",
          "text": [
            "17\n",
            "Virat\n",
            "50.0\n"
          ],
          "name": "stdout"
        }
      ]
    },
    {
      "cell_type": "markdown",
      "metadata": {
        "id": "zO4MobaBtTz7"
      },
      "source": [
        "replace first element with 11 in temp"
      ],
      "id": "zO4MobaBtTz7"
    },
    {
      "cell_type": "code",
      "metadata": {
        "id": "-o9c_ZritTz8"
      },
      "source": [
        "#code here\n",
        "temp[0]=11\n"
      ],
      "id": "-o9c_ZritTz8",
      "execution_count": 74,
      "outputs": []
    },
    {
      "cell_type": "markdown",
      "metadata": {
        "id": "eB_zzypitTz8"
      },
      "source": [
        "Set temp1 = tuple(temp)"
      ],
      "id": "eB_zzypitTz8"
    },
    {
      "cell_type": "code",
      "metadata": {
        "id": "bOxbgla0tTz8"
      },
      "source": [
        "#code here\n",
        "\n",
        "temp1=tuple(temp)"
      ],
      "id": "bOxbgla0tTz8",
      "execution_count": 75,
      "outputs": []
    },
    {
      "cell_type": "markdown",
      "metadata": {
        "id": "3K_N6UmUtTz9"
      },
      "source": [
        "Iterate through temp1 and print all the items in temp1. "
      ],
      "id": "3K_N6UmUtTz9"
    },
    {
      "cell_type": "code",
      "metadata": {
        "colab": {
          "base_uri": "https://localhost:8080/"
        },
        "id": "YsI3O4N8tTz_",
        "outputId": "1589c87e-2f6f-411f-828f-61a0fb21d3e3"
      },
      "source": [
        "#code here\n",
        "\n",
        "for i in temp1:\n",
        "  print(i)"
      ],
      "id": "YsI3O4N8tTz_",
      "execution_count": 76,
      "outputs": [
        {
          "output_type": "stream",
          "text": [
            "11\n",
            "Virat\n",
            "50.0\n"
          ],
          "name": "stdout"
        }
      ]
    },
    {
      "cell_type": "markdown",
      "metadata": {
        "id": "HgfI6SMAtT0A"
      },
      "source": [
        "replace first element with 17 in temp1"
      ],
      "id": "HgfI6SMAtT0A"
    },
    {
      "cell_type": "code",
      "metadata": {
        "colab": {
          "base_uri": "https://localhost:8080/",
          "height": 197
        },
        "id": "oAmLIvy3tT0A",
        "outputId": "60008369-c184-432e-b745-9ae8ee39d4f1"
      },
      "source": [
        "#code here\n",
        "\n",
        "temp1[0]=17"
      ],
      "id": "oAmLIvy3tT0A",
      "execution_count": 78,
      "outputs": [
        {
          "output_type": "error",
          "ename": "TypeError",
          "evalue": "ignored",
          "traceback": [
            "\u001b[0;31m---------------------------------------------------------------------------\u001b[0m",
            "\u001b[0;31mTypeError\u001b[0m                                 Traceback (most recent call last)",
            "\u001b[0;32m<ipython-input-78-6b97b4ceb6e8>\u001b[0m in \u001b[0;36m<module>\u001b[0;34m()\u001b[0m\n\u001b[1;32m      1\u001b[0m \u001b[0;31m#code here\u001b[0m\u001b[0;34m\u001b[0m\u001b[0;34m\u001b[0m\u001b[0;34m\u001b[0m\u001b[0m\n\u001b[1;32m      2\u001b[0m \u001b[0;34m\u001b[0m\u001b[0m\n\u001b[0;32m----> 3\u001b[0;31m \u001b[0mtemp1\u001b[0m\u001b[0;34m[\u001b[0m\u001b[0;36m0\u001b[0m\u001b[0;34m]\u001b[0m\u001b[0;34m=\u001b[0m\u001b[0;36m17\u001b[0m\u001b[0;34m\u001b[0m\u001b[0;34m\u001b[0m\u001b[0m\n\u001b[0m",
            "\u001b[0;31mTypeError\u001b[0m: 'tuple' object does not support item assignment"
          ]
        }
      ]
    },
    {
      "cell_type": "markdown",
      "metadata": {
        "id": "yQBvIS8CtT0B"
      },
      "source": [
        "<b>Oops!! You got an error. Hey Don't worry! Its because Once a tuple is created, you cannot change its values unlike list.</b>"
      ],
      "id": "yQBvIS8CtT0B"
    },
    {
      "cell_type": "markdown",
      "metadata": {
        "id": "2JhUJMROtT0B"
      },
      "source": [
        "#### 3.2 . Create city = (\"Bangalore\", 28.9949521, 72)"
      ],
      "id": "2JhUJMROtT0B"
    },
    {
      "cell_type": "markdown",
      "metadata": {
        "id": "vHDgjCy-tT0C"
      },
      "source": [
        "<p style='text-align: right;'> 6 points</p>\n"
      ],
      "id": "vHDgjCy-tT0C"
    },
    {
      "cell_type": "code",
      "metadata": {
        "id": "A4R5_TQHtT0C"
      },
      "source": [
        "#code here\n",
        "city=(\"Bangalore\",28.9949521,72)\n",
        "\n"
      ],
      "id": "A4R5_TQHtT0C",
      "execution_count": 79,
      "outputs": []
    },
    {
      "cell_type": "markdown",
      "metadata": {
        "id": "1UW83j84tT0D"
      },
      "source": [
        "Print first element of city"
      ],
      "id": "1UW83j84tT0D"
    },
    {
      "cell_type": "code",
      "metadata": {
        "colab": {
          "base_uri": "https://localhost:8080/"
        },
        "id": "ohLh_H8QtT0D",
        "outputId": "7d76a2bc-1507-4926-d9ad-c3c9632adae7"
      },
      "source": [
        "#code here\n",
        "print(city[0])\n"
      ],
      "id": "ohLh_H8QtT0D",
      "execution_count": 80,
      "outputs": [
        {
          "output_type": "stream",
          "text": [
            "Bangalore\n"
          ],
          "name": "stdout"
        }
      ]
    },
    {
      "cell_type": "markdown",
      "metadata": {
        "id": "MvW2MmxftT0E"
      },
      "source": [
        "Create city2 = (‘Chennai’, 30.01, 74)"
      ],
      "id": "MvW2MmxftT0E"
    },
    {
      "cell_type": "code",
      "metadata": {
        "id": "u3C7GkS9tT0E"
      },
      "source": [
        "#code here\n",
        "\n",
        "city2=(\"Chennai\",30.01,74)"
      ],
      "id": "u3C7GkS9tT0E",
      "execution_count": 81,
      "outputs": []
    },
    {
      "cell_type": "markdown",
      "metadata": {
        "id": "iE-7QMnbtT0F"
      },
      "source": [
        "Create cities which consist of city and city2"
      ],
      "id": "iE-7QMnbtT0F"
    },
    {
      "cell_type": "code",
      "metadata": {
        "id": "wcjT0f-etT0F"
      },
      "source": [
        "#code here\n",
        "cities=(city,city2)\n"
      ],
      "id": "wcjT0f-etT0F",
      "execution_count": 84,
      "outputs": []
    },
    {
      "cell_type": "markdown",
      "metadata": {
        "id": "20mBFKiQtT0G"
      },
      "source": [
        "Print cities"
      ],
      "id": "20mBFKiQtT0G"
    },
    {
      "cell_type": "code",
      "metadata": {
        "colab": {
          "base_uri": "https://localhost:8080/"
        },
        "id": "KBxEwA74tT0G",
        "outputId": "ca1aeae2-bed6-492c-dca2-7fc788d20b6f"
      },
      "source": [
        "#code here\n",
        "print(cities)\n"
      ],
      "id": "KBxEwA74tT0G",
      "execution_count": 85,
      "outputs": [
        {
          "output_type": "stream",
          "text": [
            "(('Bangalore', 28.9949521, 72), ('Chennai', 30.01, 74))\n"
          ],
          "name": "stdout"
        }
      ]
    },
    {
      "cell_type": "markdown",
      "metadata": {
        "id": "mc7pIBwytT0H"
      },
      "source": [
        "Print type of first element in cities"
      ],
      "id": "mc7pIBwytT0H"
    },
    {
      "cell_type": "code",
      "metadata": {
        "colab": {
          "base_uri": "https://localhost:8080/"
        },
        "id": "gCsoMbNItT0H",
        "outputId": "3f60e738-8696-4235-fbe8-a94541839454"
      },
      "source": [
        "#code here\n",
        "\n",
        "print(type(cities[0]))"
      ],
      "id": "gCsoMbNItT0H",
      "execution_count": 86,
      "outputs": [
        {
          "output_type": "stream",
          "text": [
            "<class 'tuple'>\n"
          ],
          "name": "stdout"
        }
      ]
    },
    {
      "cell_type": "markdown",
      "metadata": {
        "id": "cvvdw0ZltT0I"
      },
      "source": [
        "print the type of cities\n"
      ],
      "id": "cvvdw0ZltT0I"
    },
    {
      "cell_type": "code",
      "metadata": {
        "colab": {
          "base_uri": "https://localhost:8080/"
        },
        "id": "_S2x0bh3tT0I",
        "outputId": "91b60dad-9f5b-4bbd-d89f-b3f4eced23b4"
      },
      "source": [
        "#code here\n",
        "\n",
        "print(type(tuple))"
      ],
      "id": "_S2x0bh3tT0I",
      "execution_count": 87,
      "outputs": [
        {
          "output_type": "stream",
          "text": [
            "<class 'type'>\n"
          ],
          "name": "stdout"
        }
      ]
    },
    {
      "cell_type": "markdown",
      "metadata": {
        "id": "tGnnhZ7PtT0J"
      },
      "source": [
        "Hey that implies you made a nested tuples!!"
      ],
      "id": "tGnnhZ7PtT0J"
    },
    {
      "cell_type": "markdown",
      "metadata": {
        "id": "HjltO9vitT0J"
      },
      "source": [
        "## 4. DICT\n",
        "\n",
        "Reference:-https://www.youtube.com/watch?v=XCcpzWs-CI4"
      ],
      "id": "HjltO9vitT0J"
    },
    {
      "cell_type": "markdown",
      "metadata": {
        "id": "mOUYNrhBtT0J"
      },
      "source": [
        "<p style='text-align: right;'> 11 points</p>\n"
      ],
      "id": "mOUYNrhBtT0J"
    },
    {
      "cell_type": "markdown",
      "metadata": {
        "id": "Ld5VXmYWtT0K"
      },
      "source": [
        "#### 4.1 Create a dictionary d = {\"actor\":\"amir\",\"animal\":\"cat\",\"earth\":2,\"list\":[23,32,12]}"
      ],
      "id": "Ld5VXmYWtT0K"
    },
    {
      "cell_type": "code",
      "metadata": {
        "id": "Yn_INrY2tT0K"
      },
      "source": [
        "#code here\n",
        "d = {\"actor\":\"amir\",\"animal\":\"cat\",\"earth\":2,\"list\":[23,32,12]}\n"
      ],
      "id": "Yn_INrY2tT0K",
      "execution_count": 88,
      "outputs": []
    },
    {
      "cell_type": "markdown",
      "metadata": {
        "id": "p5hvGkKZtT0K"
      },
      "source": [
        "Print the value of d[0]"
      ],
      "id": "p5hvGkKZtT0K"
    },
    {
      "cell_type": "code",
      "metadata": {
        "colab": {
          "base_uri": "https://localhost:8080/",
          "height": 197
        },
        "id": "axjLT4WytT0L",
        "outputId": "cc5cb5ed-e914-4ba0-ef6d-fb48dfb149bf"
      },
      "source": [
        "#code here\n",
        "print(d[0])\n",
        "\n"
      ],
      "id": "axjLT4WytT0L",
      "execution_count": 89,
      "outputs": [
        {
          "output_type": "error",
          "ename": "KeyError",
          "evalue": "ignored",
          "traceback": [
            "\u001b[0;31m---------------------------------------------------------------------------\u001b[0m",
            "\u001b[0;31mKeyError\u001b[0m                                  Traceback (most recent call last)",
            "\u001b[0;32m<ipython-input-89-da285ea2c835>\u001b[0m in \u001b[0;36m<module>\u001b[0;34m()\u001b[0m\n\u001b[1;32m      1\u001b[0m \u001b[0;31m#code here\u001b[0m\u001b[0;34m\u001b[0m\u001b[0;34m\u001b[0m\u001b[0;34m\u001b[0m\u001b[0m\n\u001b[0;32m----> 2\u001b[0;31m \u001b[0mprint\u001b[0m\u001b[0;34m(\u001b[0m\u001b[0md\u001b[0m\u001b[0;34m[\u001b[0m\u001b[0;36m0\u001b[0m\u001b[0;34m]\u001b[0m\u001b[0;34m)\u001b[0m\u001b[0;34m\u001b[0m\u001b[0;34m\u001b[0m\u001b[0m\n\u001b[0m\u001b[1;32m      3\u001b[0m \u001b[0;34m\u001b[0m\u001b[0m\n",
            "\u001b[0;31mKeyError\u001b[0m: 0"
          ]
        }
      ]
    },
    {
      "cell_type": "markdown",
      "metadata": {
        "id": "EH0DWEABtT0L"
      },
      "source": [
        "<b>Oops!! again an error. again a fun fact. Dictionary return the value for key if key is in the dictionary, else throws KeyError\n",
        "and we don't have key 0 here :( </b>"
      ],
      "id": "EH0DWEABtT0L"
    },
    {
      "cell_type": "markdown",
      "metadata": {
        "id": "ckfjtZZqtT0M"
      },
      "source": [
        "Store the value of d[‘actor’] to a new variable actor."
      ],
      "id": "ckfjtZZqtT0M"
    },
    {
      "cell_type": "code",
      "metadata": {
        "id": "TctQpruJtT0M"
      },
      "source": [
        "#code here\n",
        "\n",
        "actor=d['actor']"
      ],
      "id": "TctQpruJtT0M",
      "execution_count": 91,
      "outputs": []
    },
    {
      "cell_type": "markdown",
      "metadata": {
        "id": "wrbIYkIAtT0N"
      },
      "source": [
        "Print the type of actor"
      ],
      "id": "wrbIYkIAtT0N"
    },
    {
      "cell_type": "code",
      "metadata": {
        "colab": {
          "base_uri": "https://localhost:8080/"
        },
        "id": "145tldp6tT0N",
        "outputId": "c6955e44-d449-4cf5-c99f-be781aec5918"
      },
      "source": [
        "#code here\n",
        "print(type(actor))\n"
      ],
      "id": "145tldp6tT0N",
      "execution_count": 93,
      "outputs": [
        {
          "output_type": "stream",
          "text": [
            "<class 'str'>\n"
          ],
          "name": "stdout"
        }
      ]
    },
    {
      "cell_type": "markdown",
      "metadata": {
        "id": "JWjFrZzMtT0N"
      },
      "source": [
        "Store the value of d[‘list’] in new variable l. "
      ],
      "id": "JWjFrZzMtT0N"
    },
    {
      "cell_type": "code",
      "metadata": {
        "id": "aexnRQt0tT0O"
      },
      "source": [
        "#code here\n",
        "\n",
        "l=d['list']"
      ],
      "id": "aexnRQt0tT0O",
      "execution_count": 94,
      "outputs": []
    },
    {
      "cell_type": "markdown",
      "metadata": {
        "id": "ZGqPsXMqtT0O"
      },
      "source": [
        "Print the type of l. "
      ],
      "id": "ZGqPsXMqtT0O"
    },
    {
      "cell_type": "code",
      "metadata": {
        "colab": {
          "base_uri": "https://localhost:8080/"
        },
        "id": "9znsNyaptT0P",
        "outputId": "27aec957-bb67-4fe9-ad51-176dfaba949b"
      },
      "source": [
        "print(type(l))#code here\n",
        "\n"
      ],
      "id": "9znsNyaptT0P",
      "execution_count": 96,
      "outputs": [
        {
          "output_type": "stream",
          "text": [
            "<class 'list'>\n"
          ],
          "name": "stdout"
        }
      ]
    },
    {
      "cell_type": "markdown",
      "metadata": {
        "id": "dyQaibOhtT0P"
      },
      "source": [
        "Create d1 = { ‘singer’ : ‘Kr$na’ , ‘album’: ‘Still here’, ‘genre’ : ‘hip-hop’}"
      ],
      "id": "dyQaibOhtT0P"
    },
    {
      "cell_type": "code",
      "metadata": {
        "id": "dVIlRJBptT0Q"
      },
      "source": [
        "#code here\n",
        "\n",
        "d1 = { 'singer' : 'Kr$na' , 'album': 'Still here', 'genre' : 'hip-hop'}"
      ],
      "id": "dVIlRJBptT0Q",
      "execution_count": 98,
      "outputs": []
    },
    {
      "cell_type": "markdown",
      "metadata": {
        "id": "-V29GupZtT0Q"
      },
      "source": [
        "Merge d1 into d."
      ],
      "id": "-V29GupZtT0Q"
    },
    {
      "cell_type": "code",
      "metadata": {
        "id": "ul1NAK_ctT0Q"
      },
      "source": [
        "#code here\n",
        "\n",
        "d.update(d1)"
      ],
      "id": "ul1NAK_ctT0Q",
      "execution_count": 99,
      "outputs": []
    },
    {
      "cell_type": "markdown",
      "metadata": {
        "id": "WpgFER7GtT0R"
      },
      "source": [
        "print d"
      ],
      "id": "WpgFER7GtT0R"
    },
    {
      "cell_type": "code",
      "metadata": {
        "colab": {
          "base_uri": "https://localhost:8080/"
        },
        "id": "7HnbpqxztT0R",
        "outputId": "a31a6b6c-78d4-44d8-b2d1-64d91633f5d5"
      },
      "source": [
        "#code here\n",
        "\n",
        "print(d)"
      ],
      "id": "7HnbpqxztT0R",
      "execution_count": 100,
      "outputs": [
        {
          "output_type": "stream",
          "text": [
            "{'actor': 'amir', 'animal': 'cat', 'earth': 2, 'list': [23, 32, 12], 'singer': 'Kr$na', 'album': 'Still here', 'genre': 'hip-hop'}\n"
          ],
          "name": "stdout"
        }
      ]
    },
    {
      "cell_type": "markdown",
      "metadata": {
        "id": "r7tavommtT0S"
      },
      "source": [
        "Print all the keys in d"
      ],
      "id": "r7tavommtT0S"
    },
    {
      "cell_type": "code",
      "metadata": {
        "colab": {
          "base_uri": "https://localhost:8080/"
        },
        "id": "noo_zGYjtT0S",
        "outputId": "7b1c354c-c412-4d55-b45e-ce5488c500a1"
      },
      "source": [
        "#code here\n",
        "print(d.keys())\n"
      ],
      "id": "noo_zGYjtT0S",
      "execution_count": 101,
      "outputs": [
        {
          "output_type": "stream",
          "text": [
            "dict_keys(['actor', 'animal', 'earth', 'list', 'singer', 'album', 'genre'])\n"
          ],
          "name": "stdout"
        }
      ]
    },
    {
      "cell_type": "markdown",
      "metadata": {
        "id": "do513bJwtT0T"
      },
      "source": [
        "Print all the values in d"
      ],
      "id": "do513bJwtT0T"
    },
    {
      "cell_type": "code",
      "metadata": {
        "colab": {
          "base_uri": "https://localhost:8080/"
        },
        "id": "0bPoGQiXtT0T",
        "outputId": "c9422e85-e7e2-4a2f-8f19-44347e953546"
      },
      "source": [
        "#code here\n",
        "\n",
        "print(d.values())"
      ],
      "id": "0bPoGQiXtT0T",
      "execution_count": 102,
      "outputs": [
        {
          "output_type": "stream",
          "text": [
            "dict_values(['amir', 'cat', 2, [23, 32, 12], 'Kr$na', 'Still here', 'hip-hop'])\n"
          ],
          "name": "stdout"
        }
      ]
    },
    {
      "cell_type": "markdown",
      "metadata": {
        "id": "sC3OToeltT0T"
      },
      "source": [
        "Iterate over d, and print each key, value pair as given in output"
      ],
      "id": "sC3OToeltT0T"
    },
    {
      "cell_type": "code",
      "metadata": {
        "colab": {
          "base_uri": "https://localhost:8080/"
        },
        "id": "VO4xcXrztT0U",
        "outputId": "4dc5e1a1-22cb-48c3-b228-4c9e49278535"
      },
      "source": [
        "#code here\n",
        "for i,j in d.items():\n",
        "  print(i,'---->',j)"
      ],
      "id": "VO4xcXrztT0U",
      "execution_count": 103,
      "outputs": [
        {
          "output_type": "stream",
          "text": [
            "actor ----> amir\n",
            "animal ----> cat\n",
            "earth ----> 2\n",
            "list ----> [23, 32, 12]\n",
            "singer ----> Kr$na\n",
            "album ----> Still here\n",
            "genre ----> hip-hop\n"
          ],
          "name": "stdout"
        }
      ]
    },
    {
      "cell_type": "markdown",
      "metadata": {
        "id": "zECOuAgAtT0U"
      },
      "source": [
        "count the number of occurences of charachters in string named \"sent\" using dictionary and print the same.\n"
      ],
      "id": "zECOuAgAtT0U"
    },
    {
      "cell_type": "code",
      "metadata": {
        "colab": {
          "base_uri": "https://localhost:8080/"
        },
        "id": "NuDLvcvWtT0X",
        "outputId": "887c4883-84b8-4658-c3fc-b53aaa3da8d0"
      },
      "source": [
        "#code here\n",
        "c={}\n",
        "for i in sent:\n",
        "  c[i]=sent.count(i)\n",
        "\n",
        "print(c)"
      ],
      "id": "NuDLvcvWtT0X",
      "execution_count": 106,
      "outputs": [
        {
          "output_type": "stream",
          "text": [
            "{'C': 2, 'o': 6, 'r': 4, 'n': 3, 'a': 2, 'v': 1, 'i': 1, 'u': 3, 's': 3, ' ': 5, 'e': 2, 'd': 4, 'L': 1, 'c': 1, 'k': 1, 'w': 1, 'A': 1, 'T': 1, 'h': 1, 'W': 1, 'l': 1}\n"
          ],
          "name": "stdout"
        }
      ]
    },
    {
      "cell_type": "markdown",
      "metadata": {
        "id": "MnT0R6gZtT0Y"
      },
      "source": [
        "# --------------------------------------------------------------------"
      ],
      "id": "MnT0R6gZtT0Y"
    },
    {
      "cell_type": "markdown",
      "metadata": {
        "id": "T2LPaledtT0Y"
      },
      "source": [
        "# Hurray!! Second milestone completed. The next challenge is waiting for you :)\n",
        "\n",
        "# --------------------------------------------------------------------"
      ],
      "id": "T2LPaledtT0Y"
    },
    {
      "cell_type": "markdown",
      "metadata": {
        "id": "CG6h_jBBkqhy"
      },
      "source": [
        "# FeedBack\n",
        "We hope you’ve enjoyed this course so far. We’re committed to help you use \"AI for All\" course to its full potential, so that you have a great learning experience. And that’s why we need your help in form of a feedback here.\n",
        "\n",
        "**Please fill this feedback form**\n",
        "https://docs.google.com/forms/d/e/1FAIpQLSfjBmH0yJSSA34IhSVx4h2eDMgOAeG4Dk-yHid__NMTk3Hq5g/viewform"
      ],
      "id": "CG6h_jBBkqhy"
    },
    {
      "cell_type": "code",
      "metadata": {
        "id": "ZFuPfLautT0Z"
      },
      "source": [
        ""
      ],
      "id": "ZFuPfLautT0Z",
      "execution_count": null,
      "outputs": []
    }
  ]
}